{
 "cells": [
  {
   "cell_type": "code",
   "execution_count": 51,
   "metadata": {},
   "outputs": [],
   "source": [
    "import pandas as pd\n",
    "import string\n",
    "import numpy as np"
   ]
  },
  {
   "cell_type": "code",
   "execution_count": 52,
   "metadata": {},
   "outputs": [],
   "source": [
    "laptop_data = pd.read_csv('clean_data/clean_data.csv')"
   ]
  },
  {
   "cell_type": "code",
   "execution_count": 53,
   "metadata": {},
   "outputs": [],
   "source": [
    "class DebugFeatureProcess:\n",
    "    def __init__(self, features):\n",
    "        self.features = features\n",
    "    def printTokens(self, idx):\n",
    "        feature = self.features[idx].replace('\\xa0', ' ')\n",
    "        feature = feature.replace('-', ' ')\n",
    "        feature = feature.replace(',', ' ')\n",
    "        tokens = [token.strip(string.punctuation).lower() for token in feature.split(' ')]\n",
    "        tokens = [token for token in tokens if token != '']\n",
    "        print(tokens)\n",
    "    def printFeature(self, idx):\n",
    "        print(self.features[idx])\n",
    "    def printAll(self, indices):\n",
    "        for idx in indices:\n",
    "            print(str(idx), end = \": \")\n",
    "            self.printTokens(idx)\n",
    "            print(str(idx), end = \": \")\n",
    "            self.printFeature(idx)"
   ]
  },
  {
   "cell_type": "code",
   "execution_count": 54,
   "metadata": {},
   "outputs": [],
   "source": [
    "def isfloat(s):\n",
    "    try:\n",
    "        float(s)\n",
    "        return True\n",
    "    except ValueError:\n",
    "        return False"
   ]
  },
  {
   "cell_type": "code",
   "execution_count": 55,
   "metadata": {},
   "outputs": [],
   "source": [
    "def memoryProcess(memories):\n",
    "    anomalies = [902, 4815, 3315]\n",
    "    '''\n",
    "    3315: 8 GB  ,, DDR6\n",
    "    902: 16 GB  ,, DDR4 2133/2400 MHz SO-DIMM\n",
    "    4815: 8 GB  ,, DDRL3\n",
    "    '''\n",
    "    index = memories.index\n",
    "    ram_capacity = pd.Series(index = index, dtype = 'float64') \n",
    "    bus = pd.Series(index = index, dtype = 'float64')\n",
    "    ddr = pd.Series(index = index, dtype = 'int32')\n",
    "    for idx, memory in zip(index, memories):\n",
    "        try:\n",
    "            if type(memory) != str:\n",
    "                continue\n",
    "            if idx in anomalies:\n",
    "                continue\n",
    "            memory = memory.lower()\n",
    "            memory = memory.replace('\\xa0', ' ')\n",
    "            memory = memory.replace('-', ' ')\n",
    "            memory = memory.replace(',', ' ')\n",
    "            tokens = [token.strip(string.punctuation) for token in memory.split()]\n",
    "            tokens = [token for token in tokens if token != '']\n",
    "            for i in range(len(tokens)):\n",
    "\n",
    "                if np.isnan(ram_capacity[idx]):\n",
    "                    if tokens[i] == 'gb':\n",
    "                        ram_capacity[idx] = round(float(tokens[i - 1]))\n",
    "                    elif tokens[i] == 'mb':\n",
    "                        ram_capacity[idx] = round(float(tokens[i - 1]) / 1024)\n",
    "\n",
    "                if np.isnan(bus[idx]):    \n",
    "                    if tokens[i] == 'mhz':\n",
    "                        bus[idx] = float(tokens[i-1])\n",
    "                    elif 'mhz' in tokens[i]:\n",
    "                        num = tokens[i][:-3]\n",
    "                        if isfloat(num):\n",
    "                            bus[idx] = float(tokens[i][:-3])\n",
    "                        else:\n",
    "                            bus[idx] = float(tokens[i-1])\n",
    "\n",
    "                if len(tokens[i]) > 2:\n",
    "                    if tokens[i][:3] == \"ddr\":\n",
    "                        if len(tokens[i]) > 3:\n",
    "                            ddr[idx] = int(tokens[i][3])\n",
    "                        else:\n",
    "                            ddr[idx] = 1\n",
    "        except Exception as e:\n",
    "                print(idx)\n",
    "                print(str(e))\n",
    "    return pd.DataFrame({'ram_capacity_gb' : ram_capacity,\n",
    "                         'bus_mhz': bus,\n",
    "                         'ddr': ddr})"
   ]
  },
  {
   "cell_type": "code",
   "execution_count": 56,
   "metadata": {},
   "outputs": [],
   "source": [
    "processed_memory = memoryProcess(laptop_data[\"Memory\"])"
   ]
  },
  {
   "cell_type": "code",
   "execution_count": 57,
   "metadata": {},
   "outputs": [],
   "source": [
    "'''\n",
    "    3315: 8 GB  ,, DDR6\n",
    "    902: 16 GB  ,, DDR4 2133/2400 MHz SO-DIMM\n",
    "    4815: 8 GB  ,, DDRL3\n",
    "'''\n",
    "processed_memory[\"ram_capacity_gb\"][[3315, 902, 4815]] = [8, 16, 8]\n",
    "processed_memory[\"ddr\"][902] = 4"
   ]
  },
  {
   "cell_type": "code",
   "execution_count": 58,
   "metadata": {},
   "outputs": [],
   "source": [
    "for capacity in [32, 64, 3, 0, 48, 40, 7]:\n",
    "    processed_memory[\"ram_capacity_gb\"][processed_memory['ram_capacity_gb'] == capacity] = np.nan"
   ]
  },
  {
   "cell_type": "code",
   "execution_count": 59,
   "metadata": {},
   "outputs": [],
   "source": [
    "def storageProcess(storages):\n",
    "    anomalies = [1970, 4928, 6169, 1398]\n",
    "    '''\n",
    "    1398:  3x512 GB NVMe SSD\n",
    "    1970: Ramaxel RTNTE256PCA8EADL, M.2 GB\n",
    "    4928: Ramaxel RTNTE256PCA8EADL, M.2 GB\n",
    "    6169:  TB SSD\n",
    "    '''\n",
    "    index = storages.index\n",
    "    storage_capacity = pd.Series(index = index, dtype = 'float64') #gb\n",
    "    rpm = pd.Series(index = index, dtype = 'float64') #rpm\n",
    "    ssd = pd.Series(0, index = index, dtype = 'int32')\n",
    "    hdd = pd.Series(0, index = index, dtype = 'int32')\n",
    "    for idx, storage in zip(index, storages):\n",
    "        try:\n",
    "            if type(storage) != str:\n",
    "                continue\n",
    "            if idx in anomalies:\n",
    "                continue\n",
    "            if '+' in storage:\n",
    "                continue\n",
    "            storage = storage.lower()\n",
    "            storage = storage.replace('\\xa0', ' ')\n",
    "            storage = storage.replace('-', ' ')\n",
    "            storage = storage.replace(',', ' ')\n",
    "            tokens = [token.strip(string.punctuation) for token in storage.split()]\n",
    "            tokens = [token for token in tokens if token != '']\n",
    "            \n",
    "            for i in range(len(tokens)):\n",
    "                \n",
    "                if np.isnan(storage_capacity[idx]):\n",
    "                    if tokens[i] == 'gb':\n",
    "                        storage_capacity[idx] = float(tokens[i-1])\n",
    "                    elif 'gb' in tokens[i]:\n",
    "                        if isfloat(tokens[i][:-2]):\n",
    "                            storage_capacity[idx] = float(tokens[i][:-2])\n",
    "\n",
    "                    if tokens[i] == 'tb':\n",
    "                        storage_capacity[idx] = float(tokens[i-1]) * 1024\n",
    "                    elif 'tb' in tokens[i]:\n",
    "                        if isfloat(tokens[i][:-2]):\n",
    "                            storage_capacity[idx] = float(tokens[i][:-2])\n",
    "                    \n",
    "                \n",
    "            if 'hdd' in storage or 'rpm' in storage:\n",
    "                hdd[idx] = 1\n",
    "            elif 'ssd' in storage:\n",
    "                ssd[idx] = 1\n",
    "                    \n",
    "        except Exception as e:\n",
    "            DebugFeatureProcess(storages).printAll([idx])\n",
    "            print(str(e))\n",
    "            print()\n",
    "    return pd.DataFrame({'storage_capacity_gb':storage_capacity,\n",
    "                         'hdd': hdd,\n",
    "                         'ssd': ssd})"
   ]
  },
  {
   "cell_type": "code",
   "execution_count": 60,
   "metadata": {},
   "outputs": [],
   "source": [
    "processed_storage = storageProcess(laptop_data[\"Storage\"])"
   ]
  },
  {
   "cell_type": "code",
   "execution_count": 61,
   "metadata": {},
   "outputs": [],
   "source": [
    "#6169:  TB SSD\n",
    "#1398:  3x512 GB NVMe SSD\n",
    "processed_storage.loc[6169] = [1024, 0, 1]\n",
    "processed_storage.loc[1398] = [3 * 512, 0, 1]"
   ]
  },
  {
   "cell_type": "code",
   "execution_count": 62,
   "metadata": {
    "tags": []
   },
   "outputs": [
    {
     "name": "stderr",
     "output_type": "stream",
     "text": [
      "C:\\Users\\NhatBui\\AppData\\Local\\Temp/ipykernel_1212/3340738685.py:3: SettingWithCopyWarning: \n",
      "A value is trying to be set on a copy of a slice from a DataFrame\n",
      "\n",
      "See the caveats in the documentation: https://pandas.pydata.org/pandas-docs/stable/user_guide/indexing.html#returning-a-view-versus-a-copy\n",
      "  processed_storage[\"storage_capacity_gb\"][idx] = np.nan\n"
     ]
    }
   ],
   "source": [
    "for idx, capacity in enumerate(processed_storage[\"storage_capacity_gb\"]):\n",
    "    if capacity not in (128, 256, 512, 1024, 1536, 2048):\n",
    "        processed_storage[\"storage_capacity_gb\"][idx] = np.nan"
   ]
  },
  {
   "cell_type": "code",
   "execution_count": 63,
   "metadata": {},
   "outputs": [],
   "source": [
    "def displayProcess(displays):\n",
    "    anomalies = [1597, 2736]\n",
    "    '''\n",
    "    1597:  16:9, 1920 x 1080 pixel, IPS, glossy: no\n",
    "    2736: 4 USB 3.0 / 3.1 Gen1, 1 USB 3.1 Gen2, 1 Thunderbolt, 1 HDMI, 1 DisplayPort, 1 Kensington Lock, Audio Connections: 3.5 mm audio jack, Card Reader: SD\n",
    "    '''\n",
    "    index = displays.index\n",
    "    inch = pd.Series(index = index, dtype = 'float64') \n",
    "    pixel_height = pd.Series(index = index, dtype = 'int32')\n",
    "    pixel_width = pd.Series(index = index, dtype = 'int32')\n",
    "    for idx, display in zip(index, displays):\n",
    "        if idx in anomalies:\n",
    "            continue\n",
    "        if type(display) != str:\n",
    "            continue\n",
    "        try:\n",
    "            display = display.lower()\n",
    "            tokens = [token.strip(string.punctuation + ' ') for token in display.split(',')]\n",
    "            tokens = [token for token in tokens if token != '']\n",
    "            inch_part, pixel_part = tokens[0], tokens[1]\n",
    "            inch[idx] = float(inch_part.split()[0])\n",
    "            tokens = pixel_part.split()\n",
    "            pixel_height[idx], _, pixel_width[idx] = int(tokens[0]), tokens[1], int(tokens[2])\n",
    "        except Exception as e:\n",
    "            print(str(idx), end = \": \")\n",
    "            DebugFeatureProcess(displays).printFeature(idx)\n",
    "            print(str(e))\n",
    "    return pd.DataFrame({'inch': inch,\n",
    "                         'pixel_height': pixel_height,\n",
    "                         'pixel_width': pixel_width})"
   ]
  },
  {
   "cell_type": "code",
   "execution_count": 64,
   "metadata": {},
   "outputs": [],
   "source": [
    "processed_display = displayProcess(laptop_data[\"Display\"])"
   ]
  },
  {
   "cell_type": "code",
   "execution_count": 65,
   "metadata": {},
   "outputs": [],
   "source": [
    "# 1597:  16:9, 1920 x 1080 pixel, IPS, glossy: no\n",
    "processed_display.loc[1597] = [np.nan, 1920, 1080]"
   ]
  },
  {
   "cell_type": "code",
   "execution_count": 66,
   "metadata": {},
   "outputs": [
    {
     "data": {
      "text/plain": [
       "0                16 GB  ,, 4x 4096 MB DDR3-RAM (1333 MHz)\n",
       "1                          4 GB  ,, A-Data AD73I1C1674EV \n",
       "2       8 GB  ,, 2x 4096 MB DDR3-RAM (1333 MHz), max. ...\n",
       "3                                                  4 GB  \n",
       "4                               1024 MB  ,, DDR2, max 2GB\n",
       "                              ...                        \n",
       "7682                                       16 GB  ,, DDR4\n",
       "7683                                        8 GB  ,, DDR4\n",
       "7684    8 GB  ,, DDR4-3200, Single-Channel-Mode, one m...\n",
       "7685                                  16 GB  ,, DDR4-3200\n",
       "7686                   8 GB  ,, DDR4 SDRAM single-channel\n",
       "Name: Memory, Length: 7687, dtype: object"
      ]
     },
     "execution_count": 66,
     "metadata": {},
     "output_type": "execute_result"
    }
   ],
   "source": [
    "laptop_data[\"Memory\"]"
   ]
  },
  {
   "cell_type": "code",
   "execution_count": 67,
   "metadata": {},
   "outputs": [
    {
     "data": {
      "text/html": [
       "<div>\n",
       "<style scoped>\n",
       "    .dataframe tbody tr th:only-of-type {\n",
       "        vertical-align: middle;\n",
       "    }\n",
       "\n",
       "    .dataframe tbody tr th {\n",
       "        vertical-align: top;\n",
       "    }\n",
       "\n",
       "    .dataframe thead th {\n",
       "        text-align: right;\n",
       "    }\n",
       "</style>\n",
       "<table border=\"1\" class=\"dataframe\">\n",
       "  <thead>\n",
       "    <tr style=\"text-align: right;\">\n",
       "      <th></th>\n",
       "      <th>ram_capacity_gb</th>\n",
       "      <th>bus_mhz</th>\n",
       "      <th>ddr</th>\n",
       "    </tr>\n",
       "  </thead>\n",
       "  <tbody>\n",
       "    <tr>\n",
       "      <th>0</th>\n",
       "      <td>16.0</td>\n",
       "      <td>1333.0</td>\n",
       "      <td>3.0</td>\n",
       "    </tr>\n",
       "    <tr>\n",
       "      <th>1</th>\n",
       "      <td>4.0</td>\n",
       "      <td>NaN</td>\n",
       "      <td>NaN</td>\n",
       "    </tr>\n",
       "    <tr>\n",
       "      <th>2</th>\n",
       "      <td>8.0</td>\n",
       "      <td>1333.0</td>\n",
       "      <td>3.0</td>\n",
       "    </tr>\n",
       "    <tr>\n",
       "      <th>3</th>\n",
       "      <td>4.0</td>\n",
       "      <td>NaN</td>\n",
       "      <td>NaN</td>\n",
       "    </tr>\n",
       "    <tr>\n",
       "      <th>4</th>\n",
       "      <td>1.0</td>\n",
       "      <td>NaN</td>\n",
       "      <td>2.0</td>\n",
       "    </tr>\n",
       "    <tr>\n",
       "      <th>...</th>\n",
       "      <td>...</td>\n",
       "      <td>...</td>\n",
       "      <td>...</td>\n",
       "    </tr>\n",
       "    <tr>\n",
       "      <th>7682</th>\n",
       "      <td>16.0</td>\n",
       "      <td>NaN</td>\n",
       "      <td>4.0</td>\n",
       "    </tr>\n",
       "    <tr>\n",
       "      <th>7683</th>\n",
       "      <td>8.0</td>\n",
       "      <td>NaN</td>\n",
       "      <td>4.0</td>\n",
       "    </tr>\n",
       "    <tr>\n",
       "      <th>7684</th>\n",
       "      <td>8.0</td>\n",
       "      <td>NaN</td>\n",
       "      <td>4.0</td>\n",
       "    </tr>\n",
       "    <tr>\n",
       "      <th>7685</th>\n",
       "      <td>16.0</td>\n",
       "      <td>NaN</td>\n",
       "      <td>4.0</td>\n",
       "    </tr>\n",
       "    <tr>\n",
       "      <th>7686</th>\n",
       "      <td>8.0</td>\n",
       "      <td>NaN</td>\n",
       "      <td>4.0</td>\n",
       "    </tr>\n",
       "  </tbody>\n",
       "</table>\n",
       "<p>7687 rows × 3 columns</p>\n",
       "</div>"
      ],
      "text/plain": [
       "      ram_capacity_gb  bus_mhz  ddr\n",
       "0                16.0   1333.0  3.0\n",
       "1                 4.0      NaN  NaN\n",
       "2                 8.0   1333.0  3.0\n",
       "3                 4.0      NaN  NaN\n",
       "4                 1.0      NaN  2.0\n",
       "...               ...      ...  ...\n",
       "7682             16.0      NaN  4.0\n",
       "7683              8.0      NaN  4.0\n",
       "7684              8.0      NaN  4.0\n",
       "7685             16.0      NaN  4.0\n",
       "7686              8.0      NaN  4.0\n",
       "\n",
       "[7687 rows x 3 columns]"
      ]
     },
     "execution_count": 67,
     "metadata": {},
     "output_type": "execute_result"
    }
   ],
   "source": [
    "processed_memory"
   ]
  },
  {
   "cell_type": "code",
   "execution_count": 68,
   "metadata": {},
   "outputs": [
    {
     "data": {
      "text/plain": [
       "0       2x WDC Scorpio Blue WD5000BEVT-22A0RT0 (RAID 0...\n",
       "1                           Toshiba MK5059GSXP , 500 GB  \n",
       "2         WDC Scorpio Black WD7500BPKT-75PKA4T0, 750 GB  \n",
       "3                                                     NaN\n",
       "4                          Fujitsu MJA2250BH G2, 250 GB  \n",
       "                              ...                        \n",
       "7682                                              1TB SSD\n",
       "7683                                            512GB SSD\n",
       "7684                                           , 256 GB  \n",
       "7685                      1 TB PCIe 3x4 NVMe M.2 2280 SSD\n",
       "7686                                           , 512 GB  \n",
       "Name: Storage, Length: 7687, dtype: object"
      ]
     },
     "execution_count": 68,
     "metadata": {},
     "output_type": "execute_result"
    }
   ],
   "source": [
    "laptop_data[\"Storage\"]"
   ]
  },
  {
   "cell_type": "code",
   "execution_count": 69,
   "metadata": {},
   "outputs": [
    {
     "data": {
      "text/html": [
       "<div>\n",
       "<style scoped>\n",
       "    .dataframe tbody tr th:only-of-type {\n",
       "        vertical-align: middle;\n",
       "    }\n",
       "\n",
       "    .dataframe tbody tr th {\n",
       "        vertical-align: top;\n",
       "    }\n",
       "\n",
       "    .dataframe thead th {\n",
       "        text-align: right;\n",
       "    }\n",
       "</style>\n",
       "<table border=\"1\" class=\"dataframe\">\n",
       "  <thead>\n",
       "    <tr style=\"text-align: right;\">\n",
       "      <th></th>\n",
       "      <th>storage_capacity_gb</th>\n",
       "      <th>hdd</th>\n",
       "      <th>ssd</th>\n",
       "    </tr>\n",
       "  </thead>\n",
       "  <tbody>\n",
       "    <tr>\n",
       "      <th>0</th>\n",
       "      <td>NaN</td>\n",
       "      <td>0</td>\n",
       "      <td>0</td>\n",
       "    </tr>\n",
       "    <tr>\n",
       "      <th>1</th>\n",
       "      <td>NaN</td>\n",
       "      <td>0</td>\n",
       "      <td>0</td>\n",
       "    </tr>\n",
       "    <tr>\n",
       "      <th>2</th>\n",
       "      <td>NaN</td>\n",
       "      <td>0</td>\n",
       "      <td>0</td>\n",
       "    </tr>\n",
       "    <tr>\n",
       "      <th>3</th>\n",
       "      <td>NaN</td>\n",
       "      <td>0</td>\n",
       "      <td>0</td>\n",
       "    </tr>\n",
       "    <tr>\n",
       "      <th>4</th>\n",
       "      <td>NaN</td>\n",
       "      <td>0</td>\n",
       "      <td>0</td>\n",
       "    </tr>\n",
       "    <tr>\n",
       "      <th>...</th>\n",
       "      <td>...</td>\n",
       "      <td>...</td>\n",
       "      <td>...</td>\n",
       "    </tr>\n",
       "    <tr>\n",
       "      <th>7682</th>\n",
       "      <td>NaN</td>\n",
       "      <td>0</td>\n",
       "      <td>1</td>\n",
       "    </tr>\n",
       "    <tr>\n",
       "      <th>7683</th>\n",
       "      <td>512.0</td>\n",
       "      <td>0</td>\n",
       "      <td>1</td>\n",
       "    </tr>\n",
       "    <tr>\n",
       "      <th>7684</th>\n",
       "      <td>256.0</td>\n",
       "      <td>0</td>\n",
       "      <td>0</td>\n",
       "    </tr>\n",
       "    <tr>\n",
       "      <th>7685</th>\n",
       "      <td>1024.0</td>\n",
       "      <td>0</td>\n",
       "      <td>1</td>\n",
       "    </tr>\n",
       "    <tr>\n",
       "      <th>7686</th>\n",
       "      <td>512.0</td>\n",
       "      <td>0</td>\n",
       "      <td>0</td>\n",
       "    </tr>\n",
       "  </tbody>\n",
       "</table>\n",
       "<p>7687 rows × 3 columns</p>\n",
       "</div>"
      ],
      "text/plain": [
       "      storage_capacity_gb  hdd  ssd\n",
       "0                     NaN    0    0\n",
       "1                     NaN    0    0\n",
       "2                     NaN    0    0\n",
       "3                     NaN    0    0\n",
       "4                     NaN    0    0\n",
       "...                   ...  ...  ...\n",
       "7682                  NaN    0    1\n",
       "7683                512.0    0    1\n",
       "7684                256.0    0    0\n",
       "7685               1024.0    0    1\n",
       "7686                512.0    0    0\n",
       "\n",
       "[7687 rows x 3 columns]"
      ]
     },
     "execution_count": 69,
     "metadata": {},
     "output_type": "execute_result"
    }
   ],
   "source": [
    "processed_storage"
   ]
  },
  {
   "cell_type": "code",
   "execution_count": 70,
   "metadata": {},
   "outputs": [
    {
     "data": {
      "text/plain": [
       "0       17.30 inch 16:9, 1920 x 1080 pixel, CMO1720, F...\n",
       "1       14.00 inch 16:9, 1366 x 768 pixel, LG LP140WH2...\n",
       "2       15.60 inch 16:9, 1920 x 1080 pixel, LG Philips...\n",
       "3          13.30 inch 16:9, 1366 x 768 pixel, glossy: yes\n",
       "4       10.10 inch 16:9, 1024 x 600 pixel, WSVGA LED T...\n",
       "                              ...                        \n",
       "7682    15.60 inch 16:9, 1920 x 1080 pixel 141 PPI, IP...\n",
       "7683    15.60 inch 16:9, 1920 x 1080 pixel 141 PPI, IP...\n",
       "7684    15.60 inch 16:9, 1920 x 1080 pixel 141 PPI, AU...\n",
       "7685           14.00 inch 16:9, 1920 x 1080 pixel 157 PPI\n",
       "7686    15.60 inch 16:9, 1920 x 1080 pixel, CEC PANDA ...\n",
       "Name: Display, Length: 7687, dtype: object"
      ]
     },
     "execution_count": 70,
     "metadata": {},
     "output_type": "execute_result"
    }
   ],
   "source": [
    "laptop_data[\"Display\"]"
   ]
  },
  {
   "cell_type": "code",
   "execution_count": 71,
   "metadata": {},
   "outputs": [
    {
     "data": {
      "text/html": [
       "<div>\n",
       "<style scoped>\n",
       "    .dataframe tbody tr th:only-of-type {\n",
       "        vertical-align: middle;\n",
       "    }\n",
       "\n",
       "    .dataframe tbody tr th {\n",
       "        vertical-align: top;\n",
       "    }\n",
       "\n",
       "    .dataframe thead th {\n",
       "        text-align: right;\n",
       "    }\n",
       "</style>\n",
       "<table border=\"1\" class=\"dataframe\">\n",
       "  <thead>\n",
       "    <tr style=\"text-align: right;\">\n",
       "      <th></th>\n",
       "      <th>inch</th>\n",
       "      <th>pixel_height</th>\n",
       "      <th>pixel_width</th>\n",
       "    </tr>\n",
       "  </thead>\n",
       "  <tbody>\n",
       "    <tr>\n",
       "      <th>0</th>\n",
       "      <td>17.3</td>\n",
       "      <td>1920.0</td>\n",
       "      <td>1080.0</td>\n",
       "    </tr>\n",
       "    <tr>\n",
       "      <th>1</th>\n",
       "      <td>14.0</td>\n",
       "      <td>1366.0</td>\n",
       "      <td>768.0</td>\n",
       "    </tr>\n",
       "    <tr>\n",
       "      <th>2</th>\n",
       "      <td>15.6</td>\n",
       "      <td>1920.0</td>\n",
       "      <td>1080.0</td>\n",
       "    </tr>\n",
       "    <tr>\n",
       "      <th>3</th>\n",
       "      <td>13.3</td>\n",
       "      <td>1366.0</td>\n",
       "      <td>768.0</td>\n",
       "    </tr>\n",
       "    <tr>\n",
       "      <th>4</th>\n",
       "      <td>10.1</td>\n",
       "      <td>1024.0</td>\n",
       "      <td>600.0</td>\n",
       "    </tr>\n",
       "    <tr>\n",
       "      <th>...</th>\n",
       "      <td>...</td>\n",
       "      <td>...</td>\n",
       "      <td>...</td>\n",
       "    </tr>\n",
       "    <tr>\n",
       "      <th>7682</th>\n",
       "      <td>15.6</td>\n",
       "      <td>1920.0</td>\n",
       "      <td>1080.0</td>\n",
       "    </tr>\n",
       "    <tr>\n",
       "      <th>7683</th>\n",
       "      <td>15.6</td>\n",
       "      <td>1920.0</td>\n",
       "      <td>1080.0</td>\n",
       "    </tr>\n",
       "    <tr>\n",
       "      <th>7684</th>\n",
       "      <td>15.6</td>\n",
       "      <td>1920.0</td>\n",
       "      <td>1080.0</td>\n",
       "    </tr>\n",
       "    <tr>\n",
       "      <th>7685</th>\n",
       "      <td>14.0</td>\n",
       "      <td>1920.0</td>\n",
       "      <td>1080.0</td>\n",
       "    </tr>\n",
       "    <tr>\n",
       "      <th>7686</th>\n",
       "      <td>15.6</td>\n",
       "      <td>1920.0</td>\n",
       "      <td>1080.0</td>\n",
       "    </tr>\n",
       "  </tbody>\n",
       "</table>\n",
       "<p>7687 rows × 3 columns</p>\n",
       "</div>"
      ],
      "text/plain": [
       "      inch  pixel_height  pixel_width\n",
       "0     17.3        1920.0       1080.0\n",
       "1     14.0        1366.0        768.0\n",
       "2     15.6        1920.0       1080.0\n",
       "3     13.3        1366.0        768.0\n",
       "4     10.1        1024.0        600.0\n",
       "...    ...           ...          ...\n",
       "7682  15.6        1920.0       1080.0\n",
       "7683  15.6        1920.0       1080.0\n",
       "7684  15.6        1920.0       1080.0\n",
       "7685  14.0        1920.0       1080.0\n",
       "7686  15.6        1920.0       1080.0\n",
       "\n",
       "[7687 rows x 3 columns]"
      ]
     },
     "execution_count": 71,
     "metadata": {},
     "output_type": "execute_result"
    }
   ],
   "source": [
    "processed_display"
   ]
  },
  {
   "cell_type": "code",
   "execution_count": 72,
   "metadata": {},
   "outputs": [],
   "source": [
    "laptop_data[processed_memory.columns] = processed_memory"
   ]
  },
  {
   "cell_type": "code",
   "execution_count": 73,
   "metadata": {
    "tags": []
   },
   "outputs": [],
   "source": [
    "laptop_data[processed_storage.columns] = processed_storage"
   ]
  },
  {
   "cell_type": "code",
   "execution_count": 74,
   "metadata": {},
   "outputs": [],
   "source": [
    "laptop_data[processed_display.columns] = processed_display"
   ]
  },
  {
   "cell_type": "code",
   "execution_count": 75,
   "metadata": {},
   "outputs": [],
   "source": [
    "laptop_data.to_csv('clean_data/clean_data_K.csv', index=False)"
   ]
  }
 ],
 "metadata": {
  "kernelspec": {
   "display_name": "Python 3 (ipykernel)",
   "language": "python",
   "name": "python3"
  },
  "language_info": {
   "codemirror_mode": {
    "name": "ipython",
    "version": 3
   },
   "file_extension": ".py",
   "mimetype": "text/x-python",
   "name": "python",
   "nbconvert_exporter": "python",
   "pygments_lexer": "ipython3",
   "version": "3.8.2"
  },
  "vscode": {
   "interpreter": {
    "hash": "eb23530768b4fcd301c76f85dd527599723e701a4801e7caec8cb6a95da20284"
   }
  }
 },
 "nbformat": 4,
 "nbformat_minor": 4
}
