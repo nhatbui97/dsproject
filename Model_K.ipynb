{
 "cells": [
  {
   "cell_type": "code",
   "execution_count": 14,
   "id": "27fee641-a1c1-488f-8267-b8f0c93cc9ce",
   "metadata": {},
   "outputs": [],
   "source": [
    "#PYTHONHASHSEED = 123"
   ]
  },
  {
   "cell_type": "code",
   "execution_count": 15,
   "id": "e96a5cb7-a02b-4f6e-a836-2baeda898773",
   "metadata": {},
   "outputs": [],
   "source": [
    "import pandas as pd\n",
    "import numpy as np\n",
    "import seaborn as sns\n",
    "import matplotlib.pyplot as plt\n",
    "from scipy.stats import reciprocal\n",
    "from sklearn.linear_model import Ridge, Lasso\n",
    "from sklearn.ensemble import RandomForestRegressor\n",
    "from sklearn.model_selection import cross_val_predict\n",
    "from sklearn.metrics import mean_squared_error\n",
    "from sklearn.preprocessing import OneHotEncoder, StandardScaler\n",
    "from sklearn.pipeline import Pipeline\n",
    "from sklearn.compose import ColumnTransformer\n",
    "import xgboost as xgb"
   ]
  },
  {
   "cell_type": "code",
   "execution_count": 16,
   "id": "9d69be2a-645b-4fc3-b92d-78cf3a4b6418",
   "metadata": {},
   "outputs": [],
   "source": [
    "seed = 70308"
   ]
  },
  {
   "cell_type": "code",
   "execution_count": 17,
   "id": "878d436a-1dc9-4b89-be63-e96c52d986a7",
   "metadata": {},
   "outputs": [],
   "source": [
    "np.random.seed(seed)"
   ]
  },
  {
   "cell_type": "code",
   "execution_count": 18,
   "id": "81c1aca7-55ee-4a95-b9f4-1ecb0e987ff1",
   "metadata": {},
   "outputs": [],
   "source": [
    "data_train = pd.read_csv(\"./train_val_test/train.csv\", index_col = 'Unnamed: 0')"
   ]
  },
  {
   "cell_type": "code",
   "execution_count": 19,
   "id": "3b0742e2-664d-4d45-8d57-d07aa014dee4",
   "metadata": {},
   "outputs": [
    {
     "data": {
      "text/html": [
       "<div>\n",
       "<style scoped>\n",
       "    .dataframe tbody tr th:only-of-type {\n",
       "        vertical-align: middle;\n",
       "    }\n",
       "\n",
       "    .dataframe tbody tr th {\n",
       "        vertical-align: top;\n",
       "    }\n",
       "\n",
       "    .dataframe thead th {\n",
       "        text-align: right;\n",
       "    }\n",
       "</style>\n",
       "<table border=\"1\" class=\"dataframe\">\n",
       "  <thead>\n",
       "    <tr style=\"text-align: right;\">\n",
       "      <th></th>\n",
       "      <th>Laptop_name</th>\n",
       "      <th>OS</th>\n",
       "      <th>CPU</th>\n",
       "      <th>CPU_Threads</th>\n",
       "      <th>CPU_Boosted_Clock</th>\n",
       "      <th>CPU_L3(MB)</th>\n",
       "      <th>CPU_TDP(W)</th>\n",
       "      <th>GPU</th>\n",
       "      <th>GPU_Memory(GB)</th>\n",
       "      <th>GPU_Memory_Type</th>\n",
       "      <th>GPU memory clock(MHz)</th>\n",
       "      <th>RAM(GB)</th>\n",
       "      <th>RAM_DDR</th>\n",
       "      <th>Storage(GB)</th>\n",
       "      <th>Display_Inch</th>\n",
       "      <th>Display_Height(pixel)</th>\n",
       "      <th>Weight(kg)</th>\n",
       "      <th>Brand</th>\n",
       "      <th>Price(USD)</th>\n",
       "    </tr>\n",
       "  </thead>\n",
       "  <tbody>\n",
       "    <tr>\n",
       "      <th>637</th>\n",
       "      <td>Lenovo Yoga Slim 7 ProX 14ARH7-82TL000BGE</td>\n",
       "      <td>Windows</td>\n",
       "      <td>ryzen 9</td>\n",
       "      <td>16</td>\n",
       "      <td>4.9</td>\n",
       "      <td>16</td>\n",
       "      <td>35</td>\n",
       "      <td>geforce rtx 3050 mobile</td>\n",
       "      <td>4</td>\n",
       "      <td>GDDR6</td>\n",
       "      <td>1500</td>\n",
       "      <td>32</td>\n",
       "      <td>5</td>\n",
       "      <td>1024</td>\n",
       "      <td>14.5</td>\n",
       "      <td>3072</td>\n",
       "      <td>1.450</td>\n",
       "      <td>Lenovo</td>\n",
       "      <td>1945.0</td>\n",
       "    </tr>\n",
       "    <tr>\n",
       "      <th>1657</th>\n",
       "      <td>Gigabyte Aero 15 OLED XC</td>\n",
       "      <td>Windows</td>\n",
       "      <td>core i7</td>\n",
       "      <td>16</td>\n",
       "      <td>5.0</td>\n",
       "      <td>16</td>\n",
       "      <td>45</td>\n",
       "      <td>geforce rtx 3070 mobile</td>\n",
       "      <td>8</td>\n",
       "      <td>GDDR6</td>\n",
       "      <td>1750</td>\n",
       "      <td>32</td>\n",
       "      <td>4</td>\n",
       "      <td>1024</td>\n",
       "      <td>15.6</td>\n",
       "      <td>3840</td>\n",
       "      <td>2.230</td>\n",
       "      <td>Gigabyte Aero</td>\n",
       "      <td>2720.0</td>\n",
       "    </tr>\n",
       "    <tr>\n",
       "      <th>1376</th>\n",
       "      <td>Asus TUF Gaming A15 FA506QR-AZ061T</td>\n",
       "      <td>Windows</td>\n",
       "      <td>ryzen 7</td>\n",
       "      <td>16</td>\n",
       "      <td>4.4</td>\n",
       "      <td>16</td>\n",
       "      <td>45</td>\n",
       "      <td>geforce rtx 3070 mobile</td>\n",
       "      <td>8</td>\n",
       "      <td>GDDR6</td>\n",
       "      <td>1750</td>\n",
       "      <td>16</td>\n",
       "      <td>4</td>\n",
       "      <td>1024</td>\n",
       "      <td>15.6</td>\n",
       "      <td>1920</td>\n",
       "      <td>2.300</td>\n",
       "      <td>Asus</td>\n",
       "      <td>2011.0</td>\n",
       "    </tr>\n",
       "    <tr>\n",
       "      <th>733</th>\n",
       "      <td>LG Gram 14Z90Q</td>\n",
       "      <td>Windows</td>\n",
       "      <td>core i5</td>\n",
       "      <td>16</td>\n",
       "      <td>4.4</td>\n",
       "      <td>12</td>\n",
       "      <td>28</td>\n",
       "      <td>iris xe graphics g7 80eus</td>\n",
       "      <td>0</td>\n",
       "      <td>NaN</td>\n",
       "      <td>0</td>\n",
       "      <td>16</td>\n",
       "      <td>4</td>\n",
       "      <td>512</td>\n",
       "      <td>14.0</td>\n",
       "      <td>1920</td>\n",
       "      <td>0.980</td>\n",
       "      <td>LG</td>\n",
       "      <td>1156.0</td>\n",
       "    </tr>\n",
       "    <tr>\n",
       "      <th>608</th>\n",
       "      <td>Lenovo IdeaPad Flex 5i 14IAU7</td>\n",
       "      <td>Windows</td>\n",
       "      <td>core i5</td>\n",
       "      <td>12</td>\n",
       "      <td>4.4</td>\n",
       "      <td>12</td>\n",
       "      <td>15</td>\n",
       "      <td>iris xe graphics g7 80eus</td>\n",
       "      <td>0</td>\n",
       "      <td>NaN</td>\n",
       "      <td>0</td>\n",
       "      <td>16</td>\n",
       "      <td>4</td>\n",
       "      <td>512</td>\n",
       "      <td>14.0</td>\n",
       "      <td>1920</td>\n",
       "      <td>1.613</td>\n",
       "      <td>Lenovo</td>\n",
       "      <td>700.0</td>\n",
       "    </tr>\n",
       "    <tr>\n",
       "      <th>...</th>\n",
       "      <td>...</td>\n",
       "      <td>...</td>\n",
       "      <td>...</td>\n",
       "      <td>...</td>\n",
       "      <td>...</td>\n",
       "      <td>...</td>\n",
       "      <td>...</td>\n",
       "      <td>...</td>\n",
       "      <td>...</td>\n",
       "      <td>...</td>\n",
       "      <td>...</td>\n",
       "      <td>...</td>\n",
       "      <td>...</td>\n",
       "      <td>...</td>\n",
       "      <td>...</td>\n",
       "      <td>...</td>\n",
       "      <td>...</td>\n",
       "      <td>...</td>\n",
       "      <td>...</td>\n",
       "    </tr>\n",
       "    <tr>\n",
       "      <th>202</th>\n",
       "      <td>Asus Vivobook Pro 16X M7600QC-L2002T</td>\n",
       "      <td>Windows</td>\n",
       "      <td>ryzen 7</td>\n",
       "      <td>16</td>\n",
       "      <td>4.4</td>\n",
       "      <td>16</td>\n",
       "      <td>45</td>\n",
       "      <td>geforce rtx 3050 mobile</td>\n",
       "      <td>4</td>\n",
       "      <td>GDDR6</td>\n",
       "      <td>1500</td>\n",
       "      <td>16</td>\n",
       "      <td>4</td>\n",
       "      <td>1024</td>\n",
       "      <td>16.0</td>\n",
       "      <td>3840</td>\n",
       "      <td>1.950</td>\n",
       "      <td>Asus</td>\n",
       "      <td>1261.0</td>\n",
       "    </tr>\n",
       "    <tr>\n",
       "      <th>1724</th>\n",
       "      <td>HP EliteBook x360 1040 G7, i7-10810U</td>\n",
       "      <td>Windows</td>\n",
       "      <td>core i7</td>\n",
       "      <td>12</td>\n",
       "      <td>4.9</td>\n",
       "      <td>12</td>\n",
       "      <td>25</td>\n",
       "      <td>uhd graphics 620</td>\n",
       "      <td>0</td>\n",
       "      <td>NaN</td>\n",
       "      <td>0</td>\n",
       "      <td>16</td>\n",
       "      <td>4</td>\n",
       "      <td>512</td>\n",
       "      <td>14.0</td>\n",
       "      <td>1920</td>\n",
       "      <td>1.361</td>\n",
       "      <td>HP</td>\n",
       "      <td>2500.0</td>\n",
       "    </tr>\n",
       "    <tr>\n",
       "      <th>1077</th>\n",
       "      <td>LG Gram 16 2-in-1 16T90P</td>\n",
       "      <td>Windows</td>\n",
       "      <td>core i7</td>\n",
       "      <td>8</td>\n",
       "      <td>4.7</td>\n",
       "      <td>12</td>\n",
       "      <td>28</td>\n",
       "      <td>iris xe graphics g7 96eus</td>\n",
       "      <td>0</td>\n",
       "      <td>NaN</td>\n",
       "      <td>0</td>\n",
       "      <td>16</td>\n",
       "      <td>4</td>\n",
       "      <td>512</td>\n",
       "      <td>16.0</td>\n",
       "      <td>2560</td>\n",
       "      <td>1.454</td>\n",
       "      <td>LG</td>\n",
       "      <td>1600.0</td>\n",
       "    </tr>\n",
       "    <tr>\n",
       "      <th>33</th>\n",
       "      <td>Acer Swift X SFX14-51G-79RJ</td>\n",
       "      <td>Windows</td>\n",
       "      <td>core i7</td>\n",
       "      <td>16</td>\n",
       "      <td>4.7</td>\n",
       "      <td>18</td>\n",
       "      <td>28</td>\n",
       "      <td>geforce rtx 3050 ti mobile</td>\n",
       "      <td>4</td>\n",
       "      <td>GDDR6</td>\n",
       "      <td>1500</td>\n",
       "      <td>16</td>\n",
       "      <td>5</td>\n",
       "      <td>1024</td>\n",
       "      <td>14.0</td>\n",
       "      <td>2240</td>\n",
       "      <td>1.400</td>\n",
       "      <td>Acer</td>\n",
       "      <td>1366.0</td>\n",
       "    </tr>\n",
       "    <tr>\n",
       "      <th>962</th>\n",
       "      <td>Lenovo Yoga Slim 7 Pro 14ACH5, R7 5800H</td>\n",
       "      <td>Windows</td>\n",
       "      <td>ryzen 7</td>\n",
       "      <td>16</td>\n",
       "      <td>4.4</td>\n",
       "      <td>16</td>\n",
       "      <td>45</td>\n",
       "      <td>radeon rx vega 8</td>\n",
       "      <td>0</td>\n",
       "      <td>NaN</td>\n",
       "      <td>0</td>\n",
       "      <td>16</td>\n",
       "      <td>4</td>\n",
       "      <td>512</td>\n",
       "      <td>14.0</td>\n",
       "      <td>2880</td>\n",
       "      <td>1.320</td>\n",
       "      <td>Lenovo</td>\n",
       "      <td>1183.0</td>\n",
       "    </tr>\n",
       "  </tbody>\n",
       "</table>\n",
       "<p>572 rows × 19 columns</p>\n",
       "</div>"
      ],
      "text/plain": [
       "                                    Laptop_name       OS      CPU  \\\n",
       "637   Lenovo Yoga Slim 7 ProX 14ARH7-82TL000BGE  Windows  ryzen 9   \n",
       "1657                   Gigabyte Aero 15 OLED XC  Windows  core i7   \n",
       "1376         Asus TUF Gaming A15 FA506QR-AZ061T  Windows  ryzen 7   \n",
       "733                              LG Gram 14Z90Q  Windows  core i5   \n",
       "608               Lenovo IdeaPad Flex 5i 14IAU7  Windows  core i5   \n",
       "...                                         ...      ...      ...   \n",
       "202        Asus Vivobook Pro 16X M7600QC-L2002T  Windows  ryzen 7   \n",
       "1724       HP EliteBook x360 1040 G7, i7-10810U  Windows  core i7   \n",
       "1077                   LG Gram 16 2-in-1 16T90P  Windows  core i7   \n",
       "33                  Acer Swift X SFX14-51G-79RJ  Windows  core i7   \n",
       "962     Lenovo Yoga Slim 7 Pro 14ACH5, R7 5800H  Windows  ryzen 7   \n",
       "\n",
       "      CPU_Threads  CPU_Boosted_Clock  CPU_L3(MB)  CPU_TDP(W)  \\\n",
       "637            16                4.9          16          35   \n",
       "1657           16                5.0          16          45   \n",
       "1376           16                4.4          16          45   \n",
       "733            16                4.4          12          28   \n",
       "608            12                4.4          12          15   \n",
       "...           ...                ...         ...         ...   \n",
       "202            16                4.4          16          45   \n",
       "1724           12                4.9          12          25   \n",
       "1077            8                4.7          12          28   \n",
       "33             16                4.7          18          28   \n",
       "962            16                4.4          16          45   \n",
       "\n",
       "                             GPU  GPU_Memory(GB) GPU_Memory_Type  \\\n",
       "637      geforce rtx 3050 mobile               4           GDDR6   \n",
       "1657     geforce rtx 3070 mobile               8           GDDR6   \n",
       "1376     geforce rtx 3070 mobile               8           GDDR6   \n",
       "733    iris xe graphics g7 80eus               0             NaN   \n",
       "608    iris xe graphics g7 80eus               0             NaN   \n",
       "...                          ...             ...             ...   \n",
       "202      geforce rtx 3050 mobile               4           GDDR6   \n",
       "1724            uhd graphics 620               0             NaN   \n",
       "1077   iris xe graphics g7 96eus               0             NaN   \n",
       "33    geforce rtx 3050 ti mobile               4           GDDR6   \n",
       "962             radeon rx vega 8               0             NaN   \n",
       "\n",
       "      GPU memory clock(MHz)  RAM(GB)  RAM_DDR  Storage(GB)  Display_Inch  \\\n",
       "637                    1500       32        5         1024          14.5   \n",
       "1657                   1750       32        4         1024          15.6   \n",
       "1376                   1750       16        4         1024          15.6   \n",
       "733                       0       16        4          512          14.0   \n",
       "608                       0       16        4          512          14.0   \n",
       "...                     ...      ...      ...          ...           ...   \n",
       "202                    1500       16        4         1024          16.0   \n",
       "1724                      0       16        4          512          14.0   \n",
       "1077                      0       16        4          512          16.0   \n",
       "33                     1500       16        5         1024          14.0   \n",
       "962                       0       16        4          512          14.0   \n",
       "\n",
       "      Display_Height(pixel)  Weight(kg)          Brand  Price(USD)  \n",
       "637                    3072       1.450         Lenovo      1945.0  \n",
       "1657                   3840       2.230  Gigabyte Aero      2720.0  \n",
       "1376                   1920       2.300           Asus      2011.0  \n",
       "733                    1920       0.980             LG      1156.0  \n",
       "608                    1920       1.613         Lenovo       700.0  \n",
       "...                     ...         ...            ...         ...  \n",
       "202                    3840       1.950           Asus      1261.0  \n",
       "1724                   1920       1.361             HP      2500.0  \n",
       "1077                   2560       1.454             LG      1600.0  \n",
       "33                     2240       1.400           Acer      1366.0  \n",
       "962                    2880       1.320         Lenovo      1183.0  \n",
       "\n",
       "[572 rows x 19 columns]"
      ]
     },
     "execution_count": 19,
     "metadata": {},
     "output_type": "execute_result"
    }
   ],
   "source": [
    "data_train"
   ]
  },
  {
   "cell_type": "code",
   "execution_count": 20,
   "id": "d5facbfa-894e-4599-aa83-99d1ba0173ec",
   "metadata": {},
   "outputs": [],
   "source": [
    "data_train.drop(axis = 1, labels = ['Brand', 'CPU', 'GPU', 'Laptop_name'], inplace = True)"
   ]
  },
  {
   "cell_type": "code",
   "execution_count": 21,
   "id": "3c270953-2f03-4e89-be68-678dfe5a2eba",
   "metadata": {},
   "outputs": [],
   "source": [
    "y_train = np.log(data_train['Price(USD)'])\n",
    "X_train = data_train.drop(axis = 1, labels = 'Price(USD)')"
   ]
  },
  {
   "cell_type": "markdown",
   "id": "91d318d7-c62b-404f-98c5-f6121ef4d030",
   "metadata": {
    "tags": []
   },
   "source": [
    "## Data Preparation"
   ]
  },
  {
   "cell_type": "code",
   "execution_count": 22,
   "id": "376c1014-6271-4df1-aaf1-0d75bd502e93",
   "metadata": {},
   "outputs": [],
   "source": [
    "cat_attribs = ['GPU_Memory_Type', 'OS', 'RAM_DDR']\n",
    "num_attribs = list(set(X_train.columns).difference(set(cat_attribs)))"
   ]
  },
  {
   "cell_type": "code",
   "execution_count": 23,
   "id": "1a048c26-3fd2-4a64-a194-76c087e852af",
   "metadata": {},
   "outputs": [],
   "source": [
    "X_train_original = X_train.copy()"
   ]
  },
  {
   "cell_type": "code",
   "execution_count": 24,
   "id": "34dee8b2-7b52-4c9d-9e04-973e67f7315a",
   "metadata": {},
   "outputs": [
    {
     "data": {
      "text/plain": [
       "11"
      ]
     },
     "execution_count": 24,
     "metadata": {},
     "output_type": "execute_result"
    }
   ],
   "source": [
    "len(num_attribs)"
   ]
  },
  {
   "cell_type": "markdown",
   "id": "c2cdc9c8-00a1-45c8-a457-1ab9cbe3df6b",
   "metadata": {},
   "source": [
    "### one-hot categorical attributes"
   ]
  },
  {
   "cell_type": "code",
   "execution_count": 25,
   "id": "7f9d382e-16ff-4e06-be1a-115eda596d89",
   "metadata": {},
   "outputs": [],
   "source": [
    "oh_encoder = OneHotEncoder()\n",
    "X_train_cat = oh_encoder.fit_transform(X_train[cat_attribs])\n",
    "X_train = np.c_[X_train.drop(labels = cat_attribs, axis = 1).values,X_train_cat.toarray()]"
   ]
  },
  {
   "cell_type": "code",
   "execution_count": 26,
   "id": "1d235210-9423-44f1-8005-d510a4e46774",
   "metadata": {},
   "outputs": [
    {
     "data": {
      "text/plain": [
       "[array(['GDDR5', 'GDDR6', 'LPDDR4X', nan], dtype=object),\n",
       " array(['Linux', 'MacOS', 'Windows'], dtype=object),\n",
       " array([3, 4, 5], dtype=int64)]"
      ]
     },
     "execution_count": 26,
     "metadata": {},
     "output_type": "execute_result"
    }
   ],
   "source": [
    "oh_encoder.categories_"
   ]
  },
  {
   "cell_type": "code",
   "execution_count": 27,
   "id": "5ab26c1c-88e5-427e-963e-06e07c83eef3",
   "metadata": {},
   "outputs": [],
   "source": [
    "X_train = pd.DataFrame(X_train, index = data_train.index, \n",
    "                          columns = num_attribs + ['GDDR5','GDDR6','LPDDR4X','NoGPU'] + ['Linux', 'MacOS', 'Windows'] + ['DDR3','DDR4','DDR5'])"
   ]
  },
  {
   "cell_type": "markdown",
   "id": "db2745bb-66a3-43d6-aa52-b266f382529f",
   "metadata": {},
   "source": [
    "### standardize numerical attributes"
   ]
  },
  {
   "cell_type": "code",
   "execution_count": 28,
   "id": "3a7c93ad-5d22-4cab-bf1a-66fa8bc0a462",
   "metadata": {},
   "outputs": [],
   "source": [
    "std_scaler = StandardScaler()\n",
    "X_train[num_attribs] = std_scaler.fit_transform(X_train[num_attribs])"
   ]
  },
  {
   "cell_type": "markdown",
   "id": "4ec73652-2b7b-4972-8cea-16b54e45e80e",
   "metadata": {},
   "source": [
    "## Transformation pipelines"
   ]
  },
  {
   "cell_type": "code",
   "execution_count": 29,
   "id": "cebeeb60-8eb4-4e8a-9c1d-1d92ced18485",
   "metadata": {},
   "outputs": [
    {
     "data": {
      "text/plain": [
       "ColumnTransformer(transformers=[('num',\n",
       "                                 Pipeline(steps=[('std_scaler',\n",
       "                                                  StandardScaler())]),\n",
       "                                 ['Display_Inch', 'GPU_Memory(GB)',\n",
       "                                  'Display_Height(pixel)', 'CPU_TDP(W)',\n",
       "                                  'RAM(GB)', 'CPU_L3(MB)', 'Storage(GB)',\n",
       "                                  'CPU_Boosted_Clock', 'GPU memory clock(MHz)',\n",
       "                                  'CPU_Threads', 'Weight(kg)']),\n",
       "                                ('cat', OneHotEncoder(),\n",
       "                                 ['GPU_Memory_Type', 'OS', 'RAM_DDR'])])"
      ]
     },
     "execution_count": 29,
     "metadata": {},
     "output_type": "execute_result"
    }
   ],
   "source": [
    "num_pipeline = Pipeline([\n",
    "    ('std_scaler', StandardScaler())\n",
    "])\n",
    "\n",
    "full_pipeline = ColumnTransformer([\n",
    "    ('num', num_pipeline, num_attribs),\n",
    "    ('cat', OneHotEncoder(), cat_attribs)\n",
    "])\n",
    "full_pipeline.fit(X_train_original)"
   ]
  },
  {
   "cell_type": "code",
   "execution_count": 30,
   "id": "7fa63c5e-b5d3-4530-beb7-0db0de7a870f",
   "metadata": {},
   "outputs": [],
   "source": [
    "data_val = pd.read_csv(\"./train_val_test/test.csv\", index_col = 'Unnamed: 0')\n",
    "data_val.drop(['Year', 'CPU_Default_Clock', 'CPU_Transistor_Size(nm)', 'GPU clock(MHz)',\n",
    "           'RAM_bus', 'CPU_Cores', 'GPU_Bus_Width(bit)', 'Display_Width(pixel)', 'Brand', 'CPU', 'GPU', 'Laptop_name'],\n",
    "           axis = 1, inplace = True)\n",
    "y_val = data_val['Price(USD)']\n",
    "X_val = data_val.drop('Price(USD)', axis = 1)\n",
    "X_val_prepared = full_pipeline.transform(X_val)\n",
    "X_val_prepared = pd.DataFrame(X_val_prepared, index = y_val.index, columns = num_attribs + ['GDDR5','GDDR6','LPDDR4X','NoGPU'] + ['Linux', 'MacOS', 'Windows'] + ['DDR3','DDR4','DDR5'])"
   ]
  },
  {
   "cell_type": "markdown",
   "id": "fb95c6e1-0528-4c1d-a006-c41bb3d4c8f0",
   "metadata": {},
   "source": [
    "## Ridge Regression"
   ]
  },
  {
   "cell_type": "code",
   "execution_count": 31,
   "id": "59a3c16b-f53f-47cb-84f4-bed870910855",
   "metadata": {
    "tags": []
   },
   "outputs": [],
   "source": [
    "n = 50\n",
    "best_alpha = None\n",
    "best_error = float('inf')\n",
    "best_estimator = None\n",
    "rv = reciprocal(0.001, 10)\n",
    "for alpha in rv.rvs(size = n):\n",
    "    estimator = Ridge(alpha = alpha)\n",
    "    estimator.fit(X_train, y_train)\n",
    "    error = np.sqrt(mean_squared_error(y_val, np.exp(estimator.predict(X_val_prepared))))\n",
    "    if error < best_error:\n",
    "        best_estimator = estimator\n",
    "        best_error = error\n",
    "        best_alpha = alpha"
   ]
  },
  {
   "cell_type": "code",
   "execution_count": 32,
   "id": "92e0815e-705c-4e00-8a8c-9073b4ae57c6",
   "metadata": {},
   "outputs": [
    {
     "name": "stdout",
     "output_type": "stream",
     "text": [
      "best parameter:  6.180376742169328\n",
      "rmse:  1040.1524047630505\n"
     ]
    }
   ],
   "source": [
    "print(\"best parameter: \",best_alpha)\n",
    "print(\"rmse: \", best_error)"
   ]
  },
  {
   "cell_type": "code",
   "execution_count": 33,
   "id": "7658a56f-cf2b-4ff9-ae8f-002cc3f8df40",
   "metadata": {},
   "outputs": [
    {
     "data": {
      "text/plain": [
       "Ridge(alpha=6.180376742169328)"
      ]
     },
     "execution_count": 33,
     "metadata": {},
     "output_type": "execute_result"
    }
   ],
   "source": [
    "ridge = Ridge(alpha = best_alpha)\n",
    "ridge.fit(pd.concat([X_train, X_val_prepared]), pd.concat([y_train, np.log(y_val)]))"
   ]
  },
  {
   "cell_type": "code",
   "execution_count": 34,
   "id": "b406ce90-3271-4ff6-ab45-44a60be66d4e",
   "metadata": {},
   "outputs": [
    {
     "data": {
      "text/plain": [
       "<AxesSubplot:>"
      ]
     },
     "execution_count": 34,
     "metadata": {},
     "output_type": "execute_result"
    },
    {
     "data": {
      "image/png": "[encoded data removed]",
      "text/plain": [
       "<Figure size 432x288 with 1 Axes>"
      ]
     },
     "metadata": {
      "needs_background": "light"
     },
     "output_type": "display_data"
    }
   ],
   "source": [
    "sns.barplot(y = X_train.columns, x = ridge.coef_, orient = 'h')"
   ]
  },
  {
   "cell_type": "markdown",
   "id": "1150a5e5-77f7-47fb-91af-5bfa5bd5b94f",
   "metadata": {},
   "source": [
    "## Lasso Regression"
   ]
  },
  {
   "cell_type": "code",
   "execution_count": 35,
   "id": "e3f7583b-d7f7-43d5-9dd7-260829e756af",
   "metadata": {},
   "outputs": [],
   "source": [
    "n = 50\n",
    "best_alpha = None\n",
    "best_error = float('inf')\n",
    "best_estimator = None\n",
    "rv = reciprocal(0.001, 10)\n",
    "for alpha in rv.rvs(size = n):\n",
    "    estimator = Lasso(alpha = alpha)\n",
    "    estimator.fit(X_train, y_train)\n",
    "    error = np.sqrt(mean_squared_error(y_val, np.exp(estimator.predict(X_val_prepared))))\n",
    "    if error < best_error:\n",
    "        best_estimator = estimator\n",
    "        best_error = error\n",
    "        best_alpha = alpha"
   ]
  },
  {
   "cell_type": "code",
   "execution_count": 36,
   "id": "45c078e8-1091-4b05-9f39-41e4071c56ff",
   "metadata": {},
   "outputs": [
    {
     "name": "stdout",
     "output_type": "stream",
     "text": [
      "best parameter:  0.085849710908814\n",
      "rmse:  736.021732607631\n"
     ]
    }
   ],
   "source": [
    "print(\"best parameter: \",best_alpha)\n",
    "print(\"rmse: \", best_error)"
   ]
  },
  {
   "cell_type": "code",
   "execution_count": 37,
   "id": "b5e77f2c-4797-4087-9a00-1f5cb3458cfa",
   "metadata": {},
   "outputs": [
    {
     "data": {
      "text/plain": [
       "Lasso(alpha=0.085849710908814)"
      ]
     },
     "execution_count": 37,
     "metadata": {},
     "output_type": "execute_result"
    }
   ],
   "source": [
    "lasso = Lasso(alpha = best_alpha)\n",
    "lasso.fit(pd.concat([X_train, X_val_prepared]), pd.concat([y_train, np.log(y_val)]))"
   ]
  },
  {
   "cell_type": "code",
   "execution_count": 38,
   "id": "9b594c92-5e50-4f65-92cd-b0dc71ad6970",
   "metadata": {},
   "outputs": [
    {
     "data": {
      "text/plain": [
       "<AxesSubplot:>"
      ]
     },
     "execution_count": 38,
     "metadata": {},
     "output_type": "execute_result"
    },
    {
     "data": {
      "image/png": "[encoded data removed]",
      "text/plain": [
       "<Figure size 432x288 with 1 Axes>"
      ]
     },
     "metadata": {
      "needs_background": "light"
     },
     "output_type": "display_data"
    }
   ],
   "source": [
    "sns.barplot(y = X_train.columns, x = lasso.coef_, orient = 'h')"
   ]
  },
  {
   "cell_type": "markdown",
   "id": "8db9bb2d-1f04-4653-8e99-558ad4b7bad1",
   "metadata": {},
   "source": [
    "## Random Forest"
   ]
  },
  {
   "cell_type": "code",
   "execution_count": 39,
   "id": "67e63c4b-eef8-46db-95d9-9f687961f168",
   "metadata": {},
   "outputs": [],
   "source": [
    "max_n_estimators = 100\n",
    "best_n_estimators = None\n",
    "best_error = float('inf')\n",
    "best_estimator = None\n",
    "errors = []\n",
    "for n_estimators in range(1, max_n_estimators):\n",
    "    estimator = RandomForestRegressor(n_estimators = n_estimators)\n",
    "    estimator.fit(X_train, y_train)\n",
    "    error = np.sqrt(mean_squared_error(y_val, np.exp(estimator.predict(X_val_prepared))))\n",
    "    errors.append(error)\n",
    "    if error < best_error:\n",
    "        best_estimator = estimator\n",
    "        best_error = error\n",
    "        best_n_estimators = n_estimators"
   ]
  },
  {
   "cell_type": "code",
   "execution_count": 40,
   "id": "052bb967-8d42-4668-9358-6ddc64159842",
   "metadata": {
    "tags": []
   },
   "outputs": [
    {
     "data": {
      "text/plain": [
       "[<matplotlib.lines.Line2D at 0x1a7f8bb34c0>]"
      ]
     },
     "execution_count": 40,
     "metadata": {},
     "output_type": "execute_result"
    },
    {
     "data": {
      "image/png": "[encoded data removed]",
      "text/plain": [
       "<Figure size 1080x360 with 1 Axes>"
      ]
     },
     "metadata": {
      "needs_background": "light"
     },
     "output_type": "display_data"
    }
   ],
   "source": [
    "plt.figure(figsize = (15, 5))\n",
    "plt.plot(range(1, max_n_estimators), errors)"
   ]
  },
  {
   "cell_type": "code",
   "execution_count": 41,
   "id": "55a5af51-e1de-494c-b01f-694c0016fd6e",
   "metadata": {},
   "outputs": [
    {
     "name": "stdout",
     "output_type": "stream",
     "text": [
      "best parameter:  69\n",
      "rmse:  749.2011928318843\n"
     ]
    }
   ],
   "source": [
    "print(\"best parameter: \",best_n_estimators)\n",
    "print(\"rmse: \", best_error)"
   ]
  },
  {
   "cell_type": "code",
   "execution_count": 42,
   "id": "d984e448-7683-4471-a45b-628f21c1ef94",
   "metadata": {},
   "outputs": [
    {
     "data": {
      "text/plain": [
       "RandomForestRegressor(n_estimators=69)"
      ]
     },
     "execution_count": 42,
     "metadata": {},
     "output_type": "execute_result"
    }
   ],
   "source": [
    "forest_reg = RandomForestRegressor(n_estimators = best_n_estimators)\n",
    "forest_reg.fit(pd.concat([X_train, X_val_prepared]), pd.concat([y_train, np.log(y_val)]))"
   ]
  },
  {
   "cell_type": "code",
   "execution_count": 43,
   "id": "267355aa-a7df-430a-b6a1-b88842526d9f",
   "metadata": {},
   "outputs": [
    {
     "data": {
      "text/plain": [
       "Text(0.5, 0, '%')"
      ]
     },
     "execution_count": 43,
     "metadata": {},
     "output_type": "execute_result"
    },
    {
     "data": {
      "image/png": "[encoded data removed]",
      "text/plain": [
       "<Figure size 432x288 with 1 Axes>"
      ]
     },
     "metadata": {
      "needs_background": "light"
     },
     "output_type": "display_data"
    }
   ],
   "source": [
    "sns.barplot(y = X_train.columns, x = forest_reg.feature_importances_ * 100, orient = 'h')\n",
    "plt.xlabel('%')"
   ]
  },
  {
   "cell_type": "markdown",
   "id": "4a2f83ac-1ba3-4ab6-ba28-268862d20e04",
   "metadata": {},
   "source": [
    "## Extreme Gradient Boosting"
   ]
  },
  {
   "cell_type": "code",
   "execution_count": 44,
   "id": "3ea02d8e-edad-4028-ad8f-3eec6e921e52",
   "metadata": {},
   "outputs": [],
   "source": [
    "max_n_estimators = 100\n",
    "best_n_estimators = None\n",
    "best_error = float('inf')\n",
    "best_estimator = None\n",
    "errors = []\n",
    "for n_estimators in range(1, max_n_estimators):\n",
    "    estimator = xgb.XGBRegressor(n_estimators = n_estimators)\n",
    "    estimator.fit(X_train, y_train)\n",
    "    error = np.sqrt(mean_squared_error(y_val, np.exp(estimator.predict(X_val_prepared))))\n",
    "    errors.append(error)\n",
    "    if error < best_error:\n",
    "        best_estimator = estimator\n",
    "        best_error = error\n",
    "        best_n_estimators = n_estimators"
   ]
  },
  {
   "cell_type": "code",
   "execution_count": 45,
   "id": "dd9d7330-9e22-4f04-b54a-b07ffaf78957",
   "metadata": {},
   "outputs": [
    {
     "data": {
      "text/plain": [
       "[<matplotlib.lines.Line2D at 0x1a7f8cc6940>]"
      ]
     },
     "execution_count": 45,
     "metadata": {},
     "output_type": "execute_result"
    },
    {
     "data": {
      "image/png": "[encoded data removed]",
      "text/plain": [
       "<Figure size 1080x360 with 1 Axes>"
      ]
     },
     "metadata": {
      "needs_background": "light"
     },
     "output_type": "display_data"
    }
   ],
   "source": [
    "plt.figure(figsize = (15, 5))\n",
    "plt.plot(range(1, max_n_estimators), errors) "
   ]
  },
  {
   "cell_type": "code",
   "execution_count": 46,
   "id": "b66da4ef-0d25-4ef6-92b9-2ca59fed534e",
   "metadata": {},
   "outputs": [
    {
     "name": "stdout",
     "output_type": "stream",
     "text": [
      "best parameter:  14\n",
      "rmse:  796.8452475494418\n"
     ]
    }
   ],
   "source": [
    "print(\"best parameter: \",best_n_estimators)\n",
    "print(\"rmse: \", best_error)"
   ]
  },
  {
   "cell_type": "code",
   "execution_count": 47,
   "id": "ea61e202-5817-453b-aab5-8f4948cc0de6",
   "metadata": {},
   "outputs": [
    {
     "data": {
      "text/plain": [
       "XGBRegressor(base_score=None, booster=None, callbacks=None,\n",
       "             colsample_bylevel=None, colsample_bynode=None,\n",
       "             colsample_bytree=None, early_stopping_rounds=None,\n",
       "             enable_categorical=False, eval_metric=None, feature_types=None,\n",
       "             gamma=None, gpu_id=None, grow_policy=None, importance_type=None,\n",
       "             interaction_constraints=None, learning_rate=None, max_bin=None,\n",
       "             max_cat_threshold=None, max_cat_to_onehot=None,\n",
       "             max_delta_step=None, max_depth=None, max_leaves=None,\n",
       "             min_child_weight=None, missing=nan, monotone_constraints=None,\n",
       "             n_estimators=14, n_jobs=None, num_parallel_tree=None,\n",
       "             predictor=None, random_state=None, ...)"
      ]
     },
     "execution_count": 47,
     "metadata": {},
     "output_type": "execute_result"
    }
   ],
   "source": [
    "xgb_reg = xgb.XGBRegressor(n_estimators = best_n_estimators)\n",
    "xgb_reg.fit(pd.concat([X_train, X_val_prepared]), pd.concat([y_train, np.log(y_val)]))"
   ]
  },
  {
   "cell_type": "code",
   "execution_count": 48,
   "id": "3eafcc34-32d8-4f07-95ea-2780ea178828",
   "metadata": {},
   "outputs": [
    {
     "data": {
      "text/plain": [
       "Text(0.5, 0, '%')"
      ]
     },
     "execution_count": 48,
     "metadata": {},
     "output_type": "execute_result"
    },
    {
     "data": {
      "image/png": "[encoded data removed]",
      "text/plain": [
       "<Figure size 432x288 with 1 Axes>"
      ]
     },
     "metadata": {
      "needs_background": "light"
     },
     "output_type": "display_data"
    }
   ],
   "source": [
    "sns.barplot(y = X_train.columns, x = xgb_reg.feature_importances_ * 100, orient = 'h')\n",
    "plt.xlabel('%')"
   ]
  },
  {
   "cell_type": "markdown",
   "id": "993e7b72-ee83-4108-9305-4c45f3a44302",
   "metadata": {
    "tags": []
   },
   "source": [
    "## Final results"
   ]
  },
  {
   "cell_type": "code",
   "execution_count": 49,
   "id": "52e3f8b6-b5ee-40d6-80bf-f1715a3f0670",
   "metadata": {
    "tags": []
   },
   "outputs": [],
   "source": [
    "data_test = pd.read_csv(\"./train_val_test/test.csv\", index_col = 'Unnamed: 0')"
   ]
  },
  {
   "cell_type": "code",
   "execution_count": 50,
   "id": "0411fd38-4820-41df-85d8-fa78f3745df5",
   "metadata": {},
   "outputs": [],
   "source": [
    "data_test.drop(['Year', 'CPU_Default_Clock', 'CPU_Transistor_Size(nm)', 'GPU clock(MHz)',\n",
    "           'RAM_bus', 'CPU_Cores', 'GPU_Bus_Width(bit)', 'Display_Width(pixel)', 'Brand', 'CPU', 'GPU', 'Laptop_name'],\n",
    "           axis = 1, inplace = True)\n",
    "y_test = data_test['Price(USD)']\n",
    "X_test = data_test.drop('Price(USD)', axis = 1)"
   ]
  },
  {
   "cell_type": "code",
   "execution_count": 51,
   "id": "cc06ceb6-c487-4087-965e-a7d857d367e3",
   "metadata": {},
   "outputs": [],
   "source": [
    "X_test_prepared = full_pipeline.transform(X_test)\n",
    "X_test_prepared = pd.DataFrame(X_test_prepared, index = y_test.index, columns = num_attribs + ['GDDR5','GDDR6','LPDDR4X','NoGPU'] + ['Linux', 'MacOS', 'Windows'] + ['DDR3','DDR4','DDR5'])"
   ]
  },
  {
   "cell_type": "code",
   "execution_count": 52,
   "id": "64f2fa92-eb98-4ff4-b619-897826fa47b0",
   "metadata": {},
   "outputs": [
    {
     "data": {
      "text/plain": [
       "803.5330543707062"
      ]
     },
     "execution_count": 52,
     "metadata": {},
     "output_type": "execute_result"
    }
   ],
   "source": [
    "np.sqrt(mean_squared_error(np.exp(ridge.predict(X_test_prepared)), y_test))"
   ]
  },
  {
   "cell_type": "code",
   "execution_count": 53,
   "id": "a2070e9f-b034-445f-b2e7-d6b1fc58f85b",
   "metadata": {},
   "outputs": [
    {
     "data": {
      "text/plain": [
       "697.6279365194126"
      ]
     },
     "execution_count": 53,
     "metadata": {},
     "output_type": "execute_result"
    }
   ],
   "source": [
    "np.sqrt(mean_squared_error(np.exp(lasso.predict(X_test_prepared)), y_test))"
   ]
  },
  {
   "cell_type": "code",
   "execution_count": 54,
   "id": "8f59acbb-2641-4b3c-920a-aabef44476fb",
   "metadata": {},
   "outputs": [
    {
     "data": {
      "text/plain": [
       "269.6306340772326"
      ]
     },
     "execution_count": 54,
     "metadata": {},
     "output_type": "execute_result"
    }
   ],
   "source": [
    "np.sqrt(mean_squared_error(np.exp(forest_reg.predict(X_test_prepared)), y_test))"
   ]
  },
  {
   "cell_type": "code",
   "execution_count": 55,
   "id": "098a36c5-43ca-46a4-aa7b-09f65bbd2425",
   "metadata": {},
   "outputs": [
    {
     "data": {
      "text/plain": [
       "470.24777691503283"
      ]
     },
     "execution_count": 55,
     "metadata": {},
     "output_type": "execute_result"
    }
   ],
   "source": [
    "np.sqrt(mean_squared_error(np.exp(xgb_reg.predict(X_test_prepared)), y_test))"
   ]
  },
  {
   "cell_type": "code",
   "execution_count": 56,
   "id": "35a151e8-cbc5-4289-9887-5ffdc92af42b",
   "metadata": {},
   "outputs": [],
   "source": [
    "#269.6306340772326"
   ]
  }
 ],
 "metadata": {
  "kernelspec": {
   "display_name": "Python 3 (ipykernel)",
   "language": "python",
   "name": "python3"
  },
  "language_info": {
   "codemirror_mode": {
    "name": "ipython",
    "version": 3
   },
   "file_extension": ".py",
   "mimetype": "text/x-python",
   "name": "python",
   "nbconvert_exporter": "python",
   "pygments_lexer": "ipython3",
   "version": "3.9.12"
  }
 },
 "nbformat": 4,
 "nbformat_minor": 5
}
