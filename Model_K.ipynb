{
 "cells": [
  {
   "cell_type": "code",
   "execution_count": 148,
   "id": "27fee641-a1c1-488f-8267-b8f0c93cc9ce",
   "metadata": {},
   "outputs": [],
   "source": [
    "PYTHONHASHSEED = 123"
   ]
  },
  {
   "cell_type": "code",
   "execution_count": 149,
   "id": "e96a5cb7-a02b-4f6e-a836-2baeda898773",
   "metadata": {},
   "outputs": [],
   "source": [
    "import pandas as pd\n",
    "import numpy as np\n",
    "import seaborn as sns\n",
    "import matplotlib.pyplot as plt\n",
    "from scipy.stats import reciprocal\n",
    "from sklearn.linear_model import Ridge, Lasso\n",
    "from sklearn.ensemble import RandomForestRegressor\n",
    "from sklearn.model_selection import cross_val_predict\n",
    "from sklearn.metrics import mean_squared_error\n",
    "from sklearn.preprocessing import OneHotEncoder, StandardScaler\n",
    "from sklearn.pipeline import Pipeline\n",
    "from sklearn.compose import ColumnTransformer\n",
    "import xgboost as xgb\n",
    "import pickle"
   ]
  },
  {
   "cell_type": "code",
   "execution_count": 150,
   "id": "9d69be2a-645b-4fc3-b92d-78cf3a4b6418",
   "metadata": {},
   "outputs": [],
   "source": [
    "seed = 70308"
   ]
  },
  {
   "cell_type": "code",
   "execution_count": 151,
   "id": "878d436a-1dc9-4b89-be63-e96c52d986a7",
   "metadata": {},
   "outputs": [],
   "source": [
    "np.random.seed(seed)"
   ]
  },
  {
   "cell_type": "code",
   "execution_count": 152,
   "id": "81c1aca7-55ee-4a95-b9f4-1ecb0e987ff1",
   "metadata": {},
   "outputs": [],
   "source": [
    "data_train = pd.read_csv(\"./train_val_test/train.csv\", index_col = 'Unnamed: 0')"
   ]
  },
  {
   "cell_type": "code",
   "execution_count": 153,
   "id": "3b0742e2-664d-4d45-8d57-d07aa014dee4",
   "metadata": {},
   "outputs": [
    {
     "data": {
      "text/html": [
       "<div>\n",
       "<style scoped>\n",
       "    .dataframe tbody tr th:only-of-type {\n",
       "        vertical-align: middle;\n",
       "    }\n",
       "\n",
       "    .dataframe tbody tr th {\n",
       "        vertical-align: top;\n",
       "    }\n",
       "\n",
       "    .dataframe thead th {\n",
       "        text-align: right;\n",
       "    }\n",
       "</style>\n",
       "<table border=\"1\" class=\"dataframe\">\n",
       "  <thead>\n",
       "    <tr style=\"text-align: right;\">\n",
       "      <th></th>\n",
       "      <th>Laptop_name</th>\n",
       "      <th>OS</th>\n",
       "      <th>CPU</th>\n",
       "      <th>CPU_Threads</th>\n",
       "      <th>CPU_Boosted_Clock</th>\n",
       "      <th>CPU_L3(MB)</th>\n",
       "      <th>CPU_TDP(W)</th>\n",
       "      <th>GPU</th>\n",
       "      <th>GPU_Memory(GB)</th>\n",
       "      <th>GPU_Memory_Type</th>\n",
       "      <th>GPU memory clock(MHz)</th>\n",
       "      <th>RAM(GB)</th>\n",
       "      <th>RAM_DDR</th>\n",
       "      <th>Storage(GB)</th>\n",
       "      <th>Display_Inch</th>\n",
       "      <th>Display_Height(pixel)</th>\n",
       "      <th>Weight(kg)</th>\n",
       "      <th>Brand</th>\n",
       "      <th>Price(USD)</th>\n",
       "    </tr>\n",
       "  </thead>\n",
       "  <tbody>\n",
       "    <tr>\n",
       "      <th>637</th>\n",
       "      <td>Lenovo Yoga Slim 7 ProX 14ARH7-82TL000BGE</td>\n",
       "      <td>Windows</td>\n",
       "      <td>ryzen 9</td>\n",
       "      <td>16</td>\n",
       "      <td>4.9</td>\n",
       "      <td>16</td>\n",
       "      <td>35</td>\n",
       "      <td>geforce rtx 3050 mobile</td>\n",
       "      <td>4</td>\n",
       "      <td>GDDR6</td>\n",
       "      <td>1500</td>\n",
       "      <td>32</td>\n",
       "      <td>5</td>\n",
       "      <td>1024</td>\n",
       "      <td>14.5</td>\n",
       "      <td>3072</td>\n",
       "      <td>1.450</td>\n",
       "      <td>Lenovo</td>\n",
       "      <td>1945.0</td>\n",
       "    </tr>\n",
       "    <tr>\n",
       "      <th>1657</th>\n",
       "      <td>Gigabyte Aero 15 OLED XC</td>\n",
       "      <td>Windows</td>\n",
       "      <td>core i7</td>\n",
       "      <td>16</td>\n",
       "      <td>5.0</td>\n",
       "      <td>16</td>\n",
       "      <td>45</td>\n",
       "      <td>geforce rtx 3070 mobile</td>\n",
       "      <td>8</td>\n",
       "      <td>GDDR6</td>\n",
       "      <td>1750</td>\n",
       "      <td>32</td>\n",
       "      <td>4</td>\n",
       "      <td>1024</td>\n",
       "      <td>15.6</td>\n",
       "      <td>3840</td>\n",
       "      <td>2.230</td>\n",
       "      <td>Gigabyte Aero</td>\n",
       "      <td>2720.0</td>\n",
       "    </tr>\n",
       "    <tr>\n",
       "      <th>1376</th>\n",
       "      <td>Asus TUF Gaming A15 FA506QR-AZ061T</td>\n",
       "      <td>Windows</td>\n",
       "      <td>ryzen 7</td>\n",
       "      <td>16</td>\n",
       "      <td>4.4</td>\n",
       "      <td>16</td>\n",
       "      <td>45</td>\n",
       "      <td>geforce rtx 3070 mobile</td>\n",
       "      <td>8</td>\n",
       "      <td>GDDR6</td>\n",
       "      <td>1750</td>\n",
       "      <td>16</td>\n",
       "      <td>4</td>\n",
       "      <td>1024</td>\n",
       "      <td>15.6</td>\n",
       "      <td>1920</td>\n",
       "      <td>2.300</td>\n",
       "      <td>Asus</td>\n",
       "      <td>2011.0</td>\n",
       "    </tr>\n",
       "    <tr>\n",
       "      <th>733</th>\n",
       "      <td>LG Gram 14Z90Q</td>\n",
       "      <td>Windows</td>\n",
       "      <td>core i5</td>\n",
       "      <td>16</td>\n",
       "      <td>4.4</td>\n",
       "      <td>12</td>\n",
       "      <td>28</td>\n",
       "      <td>iris xe graphics g7 80eus</td>\n",
       "      <td>0</td>\n",
       "      <td>NaN</td>\n",
       "      <td>0</td>\n",
       "      <td>16</td>\n",
       "      <td>4</td>\n",
       "      <td>512</td>\n",
       "      <td>14.0</td>\n",
       "      <td>1920</td>\n",
       "      <td>0.980</td>\n",
       "      <td>LG</td>\n",
       "      <td>1156.0</td>\n",
       "    </tr>\n",
       "    <tr>\n",
       "      <th>608</th>\n",
       "      <td>Lenovo IdeaPad Flex 5i 14IAU7</td>\n",
       "      <td>Windows</td>\n",
       "      <td>core i5</td>\n",
       "      <td>12</td>\n",
       "      <td>4.4</td>\n",
       "      <td>12</td>\n",
       "      <td>15</td>\n",
       "      <td>iris xe graphics g7 80eus</td>\n",
       "      <td>0</td>\n",
       "      <td>NaN</td>\n",
       "      <td>0</td>\n",
       "      <td>16</td>\n",
       "      <td>4</td>\n",
       "      <td>512</td>\n",
       "      <td>14.0</td>\n",
       "      <td>1920</td>\n",
       "      <td>1.613</td>\n",
       "      <td>Lenovo</td>\n",
       "      <td>700.0</td>\n",
       "    </tr>\n",
       "    <tr>\n",
       "      <th>...</th>\n",
       "      <td>...</td>\n",
       "      <td>...</td>\n",
       "      <td>...</td>\n",
       "      <td>...</td>\n",
       "      <td>...</td>\n",
       "      <td>...</td>\n",
       "      <td>...</td>\n",
       "      <td>...</td>\n",
       "      <td>...</td>\n",
       "      <td>...</td>\n",
       "      <td>...</td>\n",
       "      <td>...</td>\n",
       "      <td>...</td>\n",
       "      <td>...</td>\n",
       "      <td>...</td>\n",
       "      <td>...</td>\n",
       "      <td>...</td>\n",
       "      <td>...</td>\n",
       "      <td>...</td>\n",
       "    </tr>\n",
       "    <tr>\n",
       "      <th>202</th>\n",
       "      <td>Asus Vivobook Pro 16X M7600QC-L2002T</td>\n",
       "      <td>Windows</td>\n",
       "      <td>ryzen 7</td>\n",
       "      <td>16</td>\n",
       "      <td>4.4</td>\n",
       "      <td>16</td>\n",
       "      <td>45</td>\n",
       "      <td>geforce rtx 3050 mobile</td>\n",
       "      <td>4</td>\n",
       "      <td>GDDR6</td>\n",
       "      <td>1500</td>\n",
       "      <td>16</td>\n",
       "      <td>4</td>\n",
       "      <td>1024</td>\n",
       "      <td>16.0</td>\n",
       "      <td>3840</td>\n",
       "      <td>1.950</td>\n",
       "      <td>Asus</td>\n",
       "      <td>1261.0</td>\n",
       "    </tr>\n",
       "    <tr>\n",
       "      <th>1724</th>\n",
       "      <td>HP EliteBook x360 1040 G7, i7-10810U</td>\n",
       "      <td>Windows</td>\n",
       "      <td>core i7</td>\n",
       "      <td>12</td>\n",
       "      <td>4.9</td>\n",
       "      <td>12</td>\n",
       "      <td>25</td>\n",
       "      <td>uhd graphics 620</td>\n",
       "      <td>0</td>\n",
       "      <td>NaN</td>\n",
       "      <td>0</td>\n",
       "      <td>16</td>\n",
       "      <td>4</td>\n",
       "      <td>512</td>\n",
       "      <td>14.0</td>\n",
       "      <td>1920</td>\n",
       "      <td>1.361</td>\n",
       "      <td>HP</td>\n",
       "      <td>2500.0</td>\n",
       "    </tr>\n",
       "    <tr>\n",
       "      <th>1077</th>\n",
       "      <td>LG Gram 16 2-in-1 16T90P</td>\n",
       "      <td>Windows</td>\n",
       "      <td>core i7</td>\n",
       "      <td>8</td>\n",
       "      <td>4.7</td>\n",
       "      <td>12</td>\n",
       "      <td>28</td>\n",
       "      <td>iris xe graphics g7 96eus</td>\n",
       "      <td>0</td>\n",
       "      <td>NaN</td>\n",
       "      <td>0</td>\n",
       "      <td>16</td>\n",
       "      <td>4</td>\n",
       "      <td>512</td>\n",
       "      <td>16.0</td>\n",
       "      <td>2560</td>\n",
       "      <td>1.454</td>\n",
       "      <td>LG</td>\n",
       "      <td>1600.0</td>\n",
       "    </tr>\n",
       "    <tr>\n",
       "      <th>33</th>\n",
       "      <td>Acer Swift X SFX14-51G-79RJ</td>\n",
       "      <td>Windows</td>\n",
       "      <td>core i7</td>\n",
       "      <td>16</td>\n",
       "      <td>4.7</td>\n",
       "      <td>18</td>\n",
       "      <td>28</td>\n",
       "      <td>geforce rtx 3050 ti mobile</td>\n",
       "      <td>4</td>\n",
       "      <td>GDDR6</td>\n",
       "      <td>1500</td>\n",
       "      <td>16</td>\n",
       "      <td>5</td>\n",
       "      <td>1024</td>\n",
       "      <td>14.0</td>\n",
       "      <td>2240</td>\n",
       "      <td>1.400</td>\n",
       "      <td>Acer</td>\n",
       "      <td>1366.0</td>\n",
       "    </tr>\n",
       "    <tr>\n",
       "      <th>962</th>\n",
       "      <td>Lenovo Yoga Slim 7 Pro 14ACH5, R7 5800H</td>\n",
       "      <td>Windows</td>\n",
       "      <td>ryzen 7</td>\n",
       "      <td>16</td>\n",
       "      <td>4.4</td>\n",
       "      <td>16</td>\n",
       "      <td>45</td>\n",
       "      <td>radeon rx vega 8</td>\n",
       "      <td>0</td>\n",
       "      <td>NaN</td>\n",
       "      <td>0</td>\n",
       "      <td>16</td>\n",
       "      <td>4</td>\n",
       "      <td>512</td>\n",
       "      <td>14.0</td>\n",
       "      <td>2880</td>\n",
       "      <td>1.320</td>\n",
       "      <td>Lenovo</td>\n",
       "      <td>1183.0</td>\n",
       "    </tr>\n",
       "  </tbody>\n",
       "</table>\n",
       "<p>572 rows × 19 columns</p>\n",
       "</div>"
      ],
      "text/plain": [
       "                                    Laptop_name       OS      CPU  \\\n",
       "637   Lenovo Yoga Slim 7 ProX 14ARH7-82TL000BGE  Windows  ryzen 9   \n",
       "1657                   Gigabyte Aero 15 OLED XC  Windows  core i7   \n",
       "1376         Asus TUF Gaming A15 FA506QR-AZ061T  Windows  ryzen 7   \n",
       "733                              LG Gram 14Z90Q  Windows  core i5   \n",
       "608               Lenovo IdeaPad Flex 5i 14IAU7  Windows  core i5   \n",
       "...                                         ...      ...      ...   \n",
       "202        Asus Vivobook Pro 16X M7600QC-L2002T  Windows  ryzen 7   \n",
       "1724       HP EliteBook x360 1040 G7, i7-10810U  Windows  core i7   \n",
       "1077                   LG Gram 16 2-in-1 16T90P  Windows  core i7   \n",
       "33                  Acer Swift X SFX14-51G-79RJ  Windows  core i7   \n",
       "962     Lenovo Yoga Slim 7 Pro 14ACH5, R7 5800H  Windows  ryzen 7   \n",
       "\n",
       "      CPU_Threads  CPU_Boosted_Clock  CPU_L3(MB)  CPU_TDP(W)  \\\n",
       "637            16                4.9          16          35   \n",
       "1657           16                5.0          16          45   \n",
       "1376           16                4.4          16          45   \n",
       "733            16                4.4          12          28   \n",
       "608            12                4.4          12          15   \n",
       "...           ...                ...         ...         ...   \n",
       "202            16                4.4          16          45   \n",
       "1724           12                4.9          12          25   \n",
       "1077            8                4.7          12          28   \n",
       "33             16                4.7          18          28   \n",
       "962            16                4.4          16          45   \n",
       "\n",
       "                             GPU  GPU_Memory(GB) GPU_Memory_Type  \\\n",
       "637      geforce rtx 3050 mobile               4           GDDR6   \n",
       "1657     geforce rtx 3070 mobile               8           GDDR6   \n",
       "1376     geforce rtx 3070 mobile               8           GDDR6   \n",
       "733    iris xe graphics g7 80eus               0             NaN   \n",
       "608    iris xe graphics g7 80eus               0             NaN   \n",
       "...                          ...             ...             ...   \n",
       "202      geforce rtx 3050 mobile               4           GDDR6   \n",
       "1724            uhd graphics 620               0             NaN   \n",
       "1077   iris xe graphics g7 96eus               0             NaN   \n",
       "33    geforce rtx 3050 ti mobile               4           GDDR6   \n",
       "962             radeon rx vega 8               0             NaN   \n",
       "\n",
       "      GPU memory clock(MHz)  RAM(GB)  RAM_DDR  Storage(GB)  Display_Inch  \\\n",
       "637                    1500       32        5         1024          14.5   \n",
       "1657                   1750       32        4         1024          15.6   \n",
       "1376                   1750       16        4         1024          15.6   \n",
       "733                       0       16        4          512          14.0   \n",
       "608                       0       16        4          512          14.0   \n",
       "...                     ...      ...      ...          ...           ...   \n",
       "202                    1500       16        4         1024          16.0   \n",
       "1724                      0       16        4          512          14.0   \n",
       "1077                      0       16        4          512          16.0   \n",
       "33                     1500       16        5         1024          14.0   \n",
       "962                       0       16        4          512          14.0   \n",
       "\n",
       "      Display_Height(pixel)  Weight(kg)          Brand  Price(USD)  \n",
       "637                    3072       1.450         Lenovo      1945.0  \n",
       "1657                   3840       2.230  Gigabyte Aero      2720.0  \n",
       "1376                   1920       2.300           Asus      2011.0  \n",
       "733                    1920       0.980             LG      1156.0  \n",
       "608                    1920       1.613         Lenovo       700.0  \n",
       "...                     ...         ...            ...         ...  \n",
       "202                    3840       1.950           Asus      1261.0  \n",
       "1724                   1920       1.361             HP      2500.0  \n",
       "1077                   2560       1.454             LG      1600.0  \n",
       "33                     2240       1.400           Acer      1366.0  \n",
       "962                    2880       1.320         Lenovo      1183.0  \n",
       "\n",
       "[572 rows x 19 columns]"
      ]
     },
     "execution_count": 153,
     "metadata": {},
     "output_type": "execute_result"
    }
   ],
   "source": [
    "data_train"
   ]
  },
  {
   "cell_type": "code",
   "execution_count": 154,
   "id": "d5facbfa-894e-4599-aa83-99d1ba0173ec",
   "metadata": {},
   "outputs": [],
   "source": [
    "data_train.drop(axis = 1, labels = ['Brand', 'CPU', 'GPU', 'Laptop_name'], inplace = True)"
   ]
  },
  {
   "cell_type": "code",
   "execution_count": 155,
   "id": "3c270953-2f03-4e89-be68-678dfe5a2eba",
   "metadata": {},
   "outputs": [],
   "source": [
    "y_train = np.log(data_train['Price(USD)'])\n",
    "X_train = data_train.drop(axis = 1, labels = 'Price(USD)')"
   ]
  },
  {
   "cell_type": "markdown",
   "id": "91d318d7-c62b-404f-98c5-f6121ef4d030",
   "metadata": {
    "tags": []
   },
   "source": [
    "## Data Preparation"
   ]
  },
  {
   "cell_type": "code",
   "execution_count": 156,
   "id": "376c1014-6271-4df1-aaf1-0d75bd502e93",
   "metadata": {},
   "outputs": [
    {
     "name": "stdout",
     "output_type": "stream",
     "text": [
      "['RAM(GB)', 'CPU_Threads', 'Display_Inch', 'CPU_TDP(W)', 'GPU_Memory(GB)', 'Display_Height(pixel)', 'Weight(kg)', 'CPU_L3(MB)', 'CPU_Boosted_Clock', 'GPU memory clock(MHz)', 'Storage(GB)']\n"
     ]
    }
   ],
   "source": [
    "cat_attribs = ['GPU_Memory_Type', 'OS', 'RAM_DDR']\n",
    "num_attribs = list(set(X_train.columns).difference(set(cat_attribs)))\n",
    "print(num_attribs)"
   ]
  },
  {
   "cell_type": "code",
   "execution_count": 157,
   "id": "1a048c26-3fd2-4a64-a194-76c087e852af",
   "metadata": {},
   "outputs": [],
   "source": [
    "X_train_original = X_train.copy()"
   ]
  },
  {
   "cell_type": "markdown",
   "id": "c2cdc9c8-00a1-45c8-a457-1ab9cbe3df6b",
   "metadata": {},
   "source": [
    "### one-hot categorical attributes"
   ]
  },
  {
   "cell_type": "code",
   "execution_count": 158,
   "id": "7f9d382e-16ff-4e06-be1a-115eda596d89",
   "metadata": {},
   "outputs": [],
   "source": [
    "oh_encoder = OneHotEncoder()\n",
    "X_train_cat = oh_encoder.fit_transform(X_train[cat_attribs])\n",
    "X_train = np.c_[X_train.drop(labels = cat_attribs, axis = 1).values,X_train_cat.toarray()]"
   ]
  },
  {
   "cell_type": "code",
   "execution_count": 159,
   "id": "1d235210-9423-44f1-8005-d510a4e46774",
   "metadata": {},
   "outputs": [
    {
     "data": {
      "text/plain": [
       "[array(['GDDR5', 'GDDR6', 'LPDDR4X', nan], dtype=object),\n",
       " array(['Linux', 'MacOS', 'Windows'], dtype=object),\n",
       " array([1, 3, 4, 5], dtype=int64)]"
      ]
     },
     "execution_count": 159,
     "metadata": {},
     "output_type": "execute_result"
    }
   ],
   "source": [
    "oh_encoder.categories_"
   ]
  },
  {
   "cell_type": "code",
   "execution_count": 160,
   "id": "5ab26c1c-88e5-427e-963e-06e07c83eef3",
   "metadata": {},
   "outputs": [],
   "source": [
    "X_train = pd.DataFrame(X_train, index = data_train.index, \n",
    "                          columns = num_attribs + ['GDDR5','GDDR6','LPDDR4X','NoGPU'] + ['Linux', 'MacOS', 'Windows'] + ['DDR1','DDR3','DDR4','DDR5'])"
   ]
  },
  {
   "cell_type": "code",
   "execution_count": 161,
   "id": "f4112f8c",
   "metadata": {},
   "outputs": [
    {
     "data": {
      "text/html": [
       "<div>\n",
       "<style scoped>\n",
       "    .dataframe tbody tr th:only-of-type {\n",
       "        vertical-align: middle;\n",
       "    }\n",
       "\n",
       "    .dataframe tbody tr th {\n",
       "        vertical-align: top;\n",
       "    }\n",
       "\n",
       "    .dataframe thead th {\n",
       "        text-align: right;\n",
       "    }\n",
       "</style>\n",
       "<table border=\"1\" class=\"dataframe\">\n",
       "  <thead>\n",
       "    <tr style=\"text-align: right;\">\n",
       "      <th></th>\n",
       "      <th>RAM(GB)</th>\n",
       "      <th>CPU_Threads</th>\n",
       "      <th>Display_Inch</th>\n",
       "      <th>CPU_TDP(W)</th>\n",
       "      <th>GPU_Memory(GB)</th>\n",
       "      <th>Display_Height(pixel)</th>\n",
       "      <th>Weight(kg)</th>\n",
       "      <th>CPU_L3(MB)</th>\n",
       "      <th>CPU_Boosted_Clock</th>\n",
       "      <th>GPU memory clock(MHz)</th>\n",
       "      <th>...</th>\n",
       "      <th>GDDR6</th>\n",
       "      <th>LPDDR4X</th>\n",
       "      <th>NoGPU</th>\n",
       "      <th>Linux</th>\n",
       "      <th>MacOS</th>\n",
       "      <th>Windows</th>\n",
       "      <th>DDR1</th>\n",
       "      <th>DDR3</th>\n",
       "      <th>DDR4</th>\n",
       "      <th>DDR5</th>\n",
       "    </tr>\n",
       "  </thead>\n",
       "  <tbody>\n",
       "    <tr>\n",
       "      <th>637</th>\n",
       "      <td>16.0</td>\n",
       "      <td>4.9</td>\n",
       "      <td>16.0</td>\n",
       "      <td>35.0</td>\n",
       "      <td>4.0</td>\n",
       "      <td>1500.0</td>\n",
       "      <td>32.0</td>\n",
       "      <td>1024.0</td>\n",
       "      <td>14.5</td>\n",
       "      <td>3072.0</td>\n",
       "      <td>...</td>\n",
       "      <td>1.0</td>\n",
       "      <td>0.0</td>\n",
       "      <td>0.0</td>\n",
       "      <td>0.0</td>\n",
       "      <td>0.0</td>\n",
       "      <td>1.0</td>\n",
       "      <td>0.0</td>\n",
       "      <td>0.0</td>\n",
       "      <td>0.0</td>\n",
       "      <td>1.0</td>\n",
       "    </tr>\n",
       "    <tr>\n",
       "      <th>1657</th>\n",
       "      <td>16.0</td>\n",
       "      <td>5.0</td>\n",
       "      <td>16.0</td>\n",
       "      <td>45.0</td>\n",
       "      <td>8.0</td>\n",
       "      <td>1750.0</td>\n",
       "      <td>32.0</td>\n",
       "      <td>1024.0</td>\n",
       "      <td>15.6</td>\n",
       "      <td>3840.0</td>\n",
       "      <td>...</td>\n",
       "      <td>1.0</td>\n",
       "      <td>0.0</td>\n",
       "      <td>0.0</td>\n",
       "      <td>0.0</td>\n",
       "      <td>0.0</td>\n",
       "      <td>1.0</td>\n",
       "      <td>0.0</td>\n",
       "      <td>0.0</td>\n",
       "      <td>1.0</td>\n",
       "      <td>0.0</td>\n",
       "    </tr>\n",
       "    <tr>\n",
       "      <th>1376</th>\n",
       "      <td>16.0</td>\n",
       "      <td>4.4</td>\n",
       "      <td>16.0</td>\n",
       "      <td>45.0</td>\n",
       "      <td>8.0</td>\n",
       "      <td>1750.0</td>\n",
       "      <td>16.0</td>\n",
       "      <td>1024.0</td>\n",
       "      <td>15.6</td>\n",
       "      <td>1920.0</td>\n",
       "      <td>...</td>\n",
       "      <td>1.0</td>\n",
       "      <td>0.0</td>\n",
       "      <td>0.0</td>\n",
       "      <td>0.0</td>\n",
       "      <td>0.0</td>\n",
       "      <td>1.0</td>\n",
       "      <td>0.0</td>\n",
       "      <td>0.0</td>\n",
       "      <td>1.0</td>\n",
       "      <td>0.0</td>\n",
       "    </tr>\n",
       "    <tr>\n",
       "      <th>733</th>\n",
       "      <td>16.0</td>\n",
       "      <td>4.4</td>\n",
       "      <td>12.0</td>\n",
       "      <td>28.0</td>\n",
       "      <td>0.0</td>\n",
       "      <td>0.0</td>\n",
       "      <td>16.0</td>\n",
       "      <td>512.0</td>\n",
       "      <td>14.0</td>\n",
       "      <td>1920.0</td>\n",
       "      <td>...</td>\n",
       "      <td>0.0</td>\n",
       "      <td>0.0</td>\n",
       "      <td>1.0</td>\n",
       "      <td>0.0</td>\n",
       "      <td>0.0</td>\n",
       "      <td>1.0</td>\n",
       "      <td>0.0</td>\n",
       "      <td>0.0</td>\n",
       "      <td>1.0</td>\n",
       "      <td>0.0</td>\n",
       "    </tr>\n",
       "    <tr>\n",
       "      <th>608</th>\n",
       "      <td>12.0</td>\n",
       "      <td>4.4</td>\n",
       "      <td>12.0</td>\n",
       "      <td>15.0</td>\n",
       "      <td>0.0</td>\n",
       "      <td>0.0</td>\n",
       "      <td>16.0</td>\n",
       "      <td>512.0</td>\n",
       "      <td>14.0</td>\n",
       "      <td>1920.0</td>\n",
       "      <td>...</td>\n",
       "      <td>0.0</td>\n",
       "      <td>0.0</td>\n",
       "      <td>1.0</td>\n",
       "      <td>0.0</td>\n",
       "      <td>0.0</td>\n",
       "      <td>1.0</td>\n",
       "      <td>0.0</td>\n",
       "      <td>0.0</td>\n",
       "      <td>1.0</td>\n",
       "      <td>0.0</td>\n",
       "    </tr>\n",
       "    <tr>\n",
       "      <th>...</th>\n",
       "      <td>...</td>\n",
       "      <td>...</td>\n",
       "      <td>...</td>\n",
       "      <td>...</td>\n",
       "      <td>...</td>\n",
       "      <td>...</td>\n",
       "      <td>...</td>\n",
       "      <td>...</td>\n",
       "      <td>...</td>\n",
       "      <td>...</td>\n",
       "      <td>...</td>\n",
       "      <td>...</td>\n",
       "      <td>...</td>\n",
       "      <td>...</td>\n",
       "      <td>...</td>\n",
       "      <td>...</td>\n",
       "      <td>...</td>\n",
       "      <td>...</td>\n",
       "      <td>...</td>\n",
       "      <td>...</td>\n",
       "      <td>...</td>\n",
       "    </tr>\n",
       "    <tr>\n",
       "      <th>202</th>\n",
       "      <td>16.0</td>\n",
       "      <td>4.4</td>\n",
       "      <td>16.0</td>\n",
       "      <td>45.0</td>\n",
       "      <td>4.0</td>\n",
       "      <td>1500.0</td>\n",
       "      <td>16.0</td>\n",
       "      <td>1024.0</td>\n",
       "      <td>16.0</td>\n",
       "      <td>3840.0</td>\n",
       "      <td>...</td>\n",
       "      <td>1.0</td>\n",
       "      <td>0.0</td>\n",
       "      <td>0.0</td>\n",
       "      <td>0.0</td>\n",
       "      <td>0.0</td>\n",
       "      <td>1.0</td>\n",
       "      <td>0.0</td>\n",
       "      <td>0.0</td>\n",
       "      <td>1.0</td>\n",
       "      <td>0.0</td>\n",
       "    </tr>\n",
       "    <tr>\n",
       "      <th>1724</th>\n",
       "      <td>12.0</td>\n",
       "      <td>4.9</td>\n",
       "      <td>12.0</td>\n",
       "      <td>25.0</td>\n",
       "      <td>0.0</td>\n",
       "      <td>0.0</td>\n",
       "      <td>16.0</td>\n",
       "      <td>512.0</td>\n",
       "      <td>14.0</td>\n",
       "      <td>1920.0</td>\n",
       "      <td>...</td>\n",
       "      <td>0.0</td>\n",
       "      <td>0.0</td>\n",
       "      <td>1.0</td>\n",
       "      <td>0.0</td>\n",
       "      <td>0.0</td>\n",
       "      <td>1.0</td>\n",
       "      <td>0.0</td>\n",
       "      <td>0.0</td>\n",
       "      <td>1.0</td>\n",
       "      <td>0.0</td>\n",
       "    </tr>\n",
       "    <tr>\n",
       "      <th>1077</th>\n",
       "      <td>8.0</td>\n",
       "      <td>4.7</td>\n",
       "      <td>12.0</td>\n",
       "      <td>28.0</td>\n",
       "      <td>0.0</td>\n",
       "      <td>0.0</td>\n",
       "      <td>16.0</td>\n",
       "      <td>512.0</td>\n",
       "      <td>16.0</td>\n",
       "      <td>2560.0</td>\n",
       "      <td>...</td>\n",
       "      <td>0.0</td>\n",
       "      <td>0.0</td>\n",
       "      <td>1.0</td>\n",
       "      <td>0.0</td>\n",
       "      <td>0.0</td>\n",
       "      <td>1.0</td>\n",
       "      <td>0.0</td>\n",
       "      <td>0.0</td>\n",
       "      <td>1.0</td>\n",
       "      <td>0.0</td>\n",
       "    </tr>\n",
       "    <tr>\n",
       "      <th>33</th>\n",
       "      <td>16.0</td>\n",
       "      <td>4.7</td>\n",
       "      <td>18.0</td>\n",
       "      <td>28.0</td>\n",
       "      <td>4.0</td>\n",
       "      <td>1500.0</td>\n",
       "      <td>16.0</td>\n",
       "      <td>1024.0</td>\n",
       "      <td>14.0</td>\n",
       "      <td>2240.0</td>\n",
       "      <td>...</td>\n",
       "      <td>1.0</td>\n",
       "      <td>0.0</td>\n",
       "      <td>0.0</td>\n",
       "      <td>0.0</td>\n",
       "      <td>0.0</td>\n",
       "      <td>1.0</td>\n",
       "      <td>0.0</td>\n",
       "      <td>0.0</td>\n",
       "      <td>0.0</td>\n",
       "      <td>1.0</td>\n",
       "    </tr>\n",
       "    <tr>\n",
       "      <th>962</th>\n",
       "      <td>16.0</td>\n",
       "      <td>4.4</td>\n",
       "      <td>16.0</td>\n",
       "      <td>45.0</td>\n",
       "      <td>0.0</td>\n",
       "      <td>0.0</td>\n",
       "      <td>16.0</td>\n",
       "      <td>512.0</td>\n",
       "      <td>14.0</td>\n",
       "      <td>2880.0</td>\n",
       "      <td>...</td>\n",
       "      <td>0.0</td>\n",
       "      <td>0.0</td>\n",
       "      <td>1.0</td>\n",
       "      <td>0.0</td>\n",
       "      <td>0.0</td>\n",
       "      <td>1.0</td>\n",
       "      <td>0.0</td>\n",
       "      <td>0.0</td>\n",
       "      <td>1.0</td>\n",
       "      <td>0.0</td>\n",
       "    </tr>\n",
       "  </tbody>\n",
       "</table>\n",
       "<p>572 rows × 22 columns</p>\n",
       "</div>"
      ],
      "text/plain": [
       "      RAM(GB)  CPU_Threads  Display_Inch  CPU_TDP(W)  GPU_Memory(GB)  \\\n",
       "637      16.0          4.9          16.0        35.0             4.0   \n",
       "1657     16.0          5.0          16.0        45.0             8.0   \n",
       "1376     16.0          4.4          16.0        45.0             8.0   \n",
       "733      16.0          4.4          12.0        28.0             0.0   \n",
       "608      12.0          4.4          12.0        15.0             0.0   \n",
       "...       ...          ...           ...         ...             ...   \n",
       "202      16.0          4.4          16.0        45.0             4.0   \n",
       "1724     12.0          4.9          12.0        25.0             0.0   \n",
       "1077      8.0          4.7          12.0        28.0             0.0   \n",
       "33       16.0          4.7          18.0        28.0             4.0   \n",
       "962      16.0          4.4          16.0        45.0             0.0   \n",
       "\n",
       "      Display_Height(pixel)  Weight(kg)  CPU_L3(MB)  CPU_Boosted_Clock  \\\n",
       "637                  1500.0        32.0      1024.0               14.5   \n",
       "1657                 1750.0        32.0      1024.0               15.6   \n",
       "1376                 1750.0        16.0      1024.0               15.6   \n",
       "733                     0.0        16.0       512.0               14.0   \n",
       "608                     0.0        16.0       512.0               14.0   \n",
       "...                     ...         ...         ...                ...   \n",
       "202                  1500.0        16.0      1024.0               16.0   \n",
       "1724                    0.0        16.0       512.0               14.0   \n",
       "1077                    0.0        16.0       512.0               16.0   \n",
       "33                   1500.0        16.0      1024.0               14.0   \n",
       "962                     0.0        16.0       512.0               14.0   \n",
       "\n",
       "      GPU memory clock(MHz)  ...  GDDR6  LPDDR4X  NoGPU  Linux  MacOS  \\\n",
       "637                  3072.0  ...    1.0      0.0    0.0    0.0    0.0   \n",
       "1657                 3840.0  ...    1.0      0.0    0.0    0.0    0.0   \n",
       "1376                 1920.0  ...    1.0      0.0    0.0    0.0    0.0   \n",
       "733                  1920.0  ...    0.0      0.0    1.0    0.0    0.0   \n",
       "608                  1920.0  ...    0.0      0.0    1.0    0.0    0.0   \n",
       "...                     ...  ...    ...      ...    ...    ...    ...   \n",
       "202                  3840.0  ...    1.0      0.0    0.0    0.0    0.0   \n",
       "1724                 1920.0  ...    0.0      0.0    1.0    0.0    0.0   \n",
       "1077                 2560.0  ...    0.0      0.0    1.0    0.0    0.0   \n",
       "33                   2240.0  ...    1.0      0.0    0.0    0.0    0.0   \n",
       "962                  2880.0  ...    0.0      0.0    1.0    0.0    0.0   \n",
       "\n",
       "      Windows  DDR1  DDR3  DDR4  DDR5  \n",
       "637       1.0   0.0   0.0   0.0   1.0  \n",
       "1657      1.0   0.0   0.0   1.0   0.0  \n",
       "1376      1.0   0.0   0.0   1.0   0.0  \n",
       "733       1.0   0.0   0.0   1.0   0.0  \n",
       "608       1.0   0.0   0.0   1.0   0.0  \n",
       "...       ...   ...   ...   ...   ...  \n",
       "202       1.0   0.0   0.0   1.0   0.0  \n",
       "1724      1.0   0.0   0.0   1.0   0.0  \n",
       "1077      1.0   0.0   0.0   1.0   0.0  \n",
       "33        1.0   0.0   0.0   0.0   1.0  \n",
       "962       1.0   0.0   0.0   1.0   0.0  \n",
       "\n",
       "[572 rows x 22 columns]"
      ]
     },
     "execution_count": 161,
     "metadata": {},
     "output_type": "execute_result"
    }
   ],
   "source": [
    "X_train"
   ]
  },
  {
   "cell_type": "markdown",
   "id": "db2745bb-66a3-43d6-aa52-b266f382529f",
   "metadata": {},
   "source": [
    "### standardize numerical attributes"
   ]
  },
  {
   "cell_type": "code",
   "execution_count": 162,
   "id": "3a7c93ad-5d22-4cab-bf1a-66fa8bc0a462",
   "metadata": {},
   "outputs": [],
   "source": [
    "std_scaler = StandardScaler()\n",
    "X_train[num_attribs] = std_scaler.fit_transform(X_train[num_attribs])"
   ]
  },
  {
   "cell_type": "markdown",
   "id": "4ec73652-2b7b-4972-8cea-16b54e45e80e",
   "metadata": {},
   "source": [
    "## Transformation pipelines"
   ]
  },
  {
   "cell_type": "code",
   "execution_count": 163,
   "id": "cebeeb60-8eb4-4e8a-9c1d-1d92ced18485",
   "metadata": {},
   "outputs": [
    {
     "data": {
      "text/html": [
       "<style>#sk-container-id-5 {color: black;background-color: white;}#sk-container-id-5 pre{padding: 0;}#sk-container-id-5 div.sk-toggleable {background-color: white;}#sk-container-id-5 label.sk-toggleable__label {cursor: pointer;display: block;width: 100%;margin-bottom: 0;padding: 0.3em;box-sizing: border-box;text-align: center;}#sk-container-id-5 label.sk-toggleable__label-arrow:before {content: \"▸\";float: left;margin-right: 0.25em;color: #696969;}#sk-container-id-5 label.sk-toggleable__label-arrow:hover:before {color: black;}#sk-container-id-5 div.sk-estimator:hover label.sk-toggleable__label-arrow:before {color: black;}#sk-container-id-5 div.sk-toggleable__content {max-height: 0;max-width: 0;overflow: hidden;text-align: left;background-color: #f0f8ff;}#sk-container-id-5 div.sk-toggleable__content pre {margin: 0.2em;color: black;border-radius: 0.25em;background-color: #f0f8ff;}#sk-container-id-5 input.sk-toggleable__control:checked~div.sk-toggleable__content {max-height: 200px;max-width: 100%;overflow: auto;}#sk-container-id-5 input.sk-toggleable__control:checked~label.sk-toggleable__label-arrow:before {content: \"▾\";}#sk-container-id-5 div.sk-estimator input.sk-toggleable__control:checked~label.sk-toggleable__label {background-color: #d4ebff;}#sk-container-id-5 div.sk-label input.sk-toggleable__control:checked~label.sk-toggleable__label {background-color: #d4ebff;}#sk-container-id-5 input.sk-hidden--visually {border: 0;clip: rect(1px 1px 1px 1px);clip: rect(1px, 1px, 1px, 1px);height: 1px;margin: -1px;overflow: hidden;padding: 0;position: absolute;width: 1px;}#sk-container-id-5 div.sk-estimator {font-family: monospace;background-color: #f0f8ff;border: 1px dotted black;border-radius: 0.25em;box-sizing: border-box;margin-bottom: 0.5em;}#sk-container-id-5 div.sk-estimator:hover {background-color: #d4ebff;}#sk-container-id-5 div.sk-parallel-item::after {content: \"\";width: 100%;border-bottom: 1px solid gray;flex-grow: 1;}#sk-container-id-5 div.sk-label:hover label.sk-toggleable__label {background-color: #d4ebff;}#sk-container-id-5 div.sk-serial::before {content: \"\";position: absolute;border-left: 1px solid gray;box-sizing: border-box;top: 0;bottom: 0;left: 50%;z-index: 0;}#sk-container-id-5 div.sk-serial {display: flex;flex-direction: column;align-items: center;background-color: white;padding-right: 0.2em;padding-left: 0.2em;position: relative;}#sk-container-id-5 div.sk-item {position: relative;z-index: 1;}#sk-container-id-5 div.sk-parallel {display: flex;align-items: stretch;justify-content: center;background-color: white;position: relative;}#sk-container-id-5 div.sk-item::before, #sk-container-id-5 div.sk-parallel-item::before {content: \"\";position: absolute;border-left: 1px solid gray;box-sizing: border-box;top: 0;bottom: 0;left: 50%;z-index: -1;}#sk-container-id-5 div.sk-parallel-item {display: flex;flex-direction: column;z-index: 1;position: relative;background-color: white;}#sk-container-id-5 div.sk-parallel-item:first-child::after {align-self: flex-end;width: 50%;}#sk-container-id-5 div.sk-parallel-item:last-child::after {align-self: flex-start;width: 50%;}#sk-container-id-5 div.sk-parallel-item:only-child::after {width: 0;}#sk-container-id-5 div.sk-dashed-wrapped {border: 1px dashed gray;margin: 0 0.4em 0.5em 0.4em;box-sizing: border-box;padding-bottom: 0.4em;background-color: white;}#sk-container-id-5 div.sk-label label {font-family: monospace;font-weight: bold;display: inline-block;line-height: 1.2em;}#sk-container-id-5 div.sk-label-container {text-align: center;}#sk-container-id-5 div.sk-container {/* jupyter's `normalize.less` sets `[hidden] { display: none; }` but bootstrap.min.css set `[hidden] { display: none !important; }` so we also need the `!important` here to be able to override the default hidden behavior on the sphinx rendered scikit-learn.org. See: https://github.com/scikit-learn/scikit-learn/issues/21755 */display: inline-block !important;position: relative;}#sk-container-id-5 div.sk-text-repr-fallback {display: none;}</style><div id=\"sk-container-id-5\" class=\"sk-top-container\"><div class=\"sk-text-repr-fallback\"><pre>ColumnTransformer(transformers=[(&#x27;num&#x27;,\n",
       "                                 Pipeline(steps=[(&#x27;std_scaler&#x27;,\n",
       "                                                  StandardScaler())]),\n",
       "                                 [&#x27;RAM(GB)&#x27;, &#x27;CPU_Threads&#x27;, &#x27;Display_Inch&#x27;,\n",
       "                                  &#x27;CPU_TDP(W)&#x27;, &#x27;GPU_Memory(GB)&#x27;,\n",
       "                                  &#x27;Display_Height(pixel)&#x27;, &#x27;Weight(kg)&#x27;,\n",
       "                                  &#x27;CPU_L3(MB)&#x27;, &#x27;CPU_Boosted_Clock&#x27;,\n",
       "                                  &#x27;GPU memory clock(MHz)&#x27;, &#x27;Storage(GB)&#x27;]),\n",
       "                                (&#x27;cat&#x27;, OneHotEncoder(),\n",
       "                                 [&#x27;GPU_Memory_Type&#x27;, &#x27;OS&#x27;, &#x27;RAM_DDR&#x27;])])</pre><b>In a Jupyter environment, please rerun this cell to show the HTML representation or trust the notebook. <br />On GitHub, the HTML representation is unable to render, please try loading this page with nbviewer.org.</b></div><div class=\"sk-container\" hidden><div class=\"sk-item sk-dashed-wrapped\"><div class=\"sk-label-container\"><div class=\"sk-label sk-toggleable\"><input class=\"sk-toggleable__control sk-hidden--visually\" id=\"sk-estimator-id-13\" type=\"checkbox\" ><label for=\"sk-estimator-id-13\" class=\"sk-toggleable__label sk-toggleable__label-arrow\">ColumnTransformer</label><div class=\"sk-toggleable__content\"><pre>ColumnTransformer(transformers=[(&#x27;num&#x27;,\n",
       "                                 Pipeline(steps=[(&#x27;std_scaler&#x27;,\n",
       "                                                  StandardScaler())]),\n",
       "                                 [&#x27;RAM(GB)&#x27;, &#x27;CPU_Threads&#x27;, &#x27;Display_Inch&#x27;,\n",
       "                                  &#x27;CPU_TDP(W)&#x27;, &#x27;GPU_Memory(GB)&#x27;,\n",
       "                                  &#x27;Display_Height(pixel)&#x27;, &#x27;Weight(kg)&#x27;,\n",
       "                                  &#x27;CPU_L3(MB)&#x27;, &#x27;CPU_Boosted_Clock&#x27;,\n",
       "                                  &#x27;GPU memory clock(MHz)&#x27;, &#x27;Storage(GB)&#x27;]),\n",
       "                                (&#x27;cat&#x27;, OneHotEncoder(),\n",
       "                                 [&#x27;GPU_Memory_Type&#x27;, &#x27;OS&#x27;, &#x27;RAM_DDR&#x27;])])</pre></div></div></div><div class=\"sk-parallel\"><div class=\"sk-parallel-item\"><div class=\"sk-item\"><div class=\"sk-label-container\"><div class=\"sk-label sk-toggleable\"><input class=\"sk-toggleable__control sk-hidden--visually\" id=\"sk-estimator-id-14\" type=\"checkbox\" ><label for=\"sk-estimator-id-14\" class=\"sk-toggleable__label sk-toggleable__label-arrow\">num</label><div class=\"sk-toggleable__content\"><pre>[&#x27;RAM(GB)&#x27;, &#x27;CPU_Threads&#x27;, &#x27;Display_Inch&#x27;, &#x27;CPU_TDP(W)&#x27;, &#x27;GPU_Memory(GB)&#x27;, &#x27;Display_Height(pixel)&#x27;, &#x27;Weight(kg)&#x27;, &#x27;CPU_L3(MB)&#x27;, &#x27;CPU_Boosted_Clock&#x27;, &#x27;GPU memory clock(MHz)&#x27;, &#x27;Storage(GB)&#x27;]</pre></div></div></div><div class=\"sk-serial\"><div class=\"sk-item\"><div class=\"sk-serial\"><div class=\"sk-item\"><div class=\"sk-estimator sk-toggleable\"><input class=\"sk-toggleable__control sk-hidden--visually\" id=\"sk-estimator-id-15\" type=\"checkbox\" ><label for=\"sk-estimator-id-15\" class=\"sk-toggleable__label sk-toggleable__label-arrow\">StandardScaler</label><div class=\"sk-toggleable__content\"><pre>StandardScaler()</pre></div></div></div></div></div></div></div></div><div class=\"sk-parallel-item\"><div class=\"sk-item\"><div class=\"sk-label-container\"><div class=\"sk-label sk-toggleable\"><input class=\"sk-toggleable__control sk-hidden--visually\" id=\"sk-estimator-id-16\" type=\"checkbox\" ><label for=\"sk-estimator-id-16\" class=\"sk-toggleable__label sk-toggleable__label-arrow\">cat</label><div class=\"sk-toggleable__content\"><pre>[&#x27;GPU_Memory_Type&#x27;, &#x27;OS&#x27;, &#x27;RAM_DDR&#x27;]</pre></div></div></div><div class=\"sk-serial\"><div class=\"sk-item\"><div class=\"sk-estimator sk-toggleable\"><input class=\"sk-toggleable__control sk-hidden--visually\" id=\"sk-estimator-id-17\" type=\"checkbox\" ><label for=\"sk-estimator-id-17\" class=\"sk-toggleable__label sk-toggleable__label-arrow\">OneHotEncoder</label><div class=\"sk-toggleable__content\"><pre>OneHotEncoder()</pre></div></div></div></div></div></div></div></div></div></div>"
      ],
      "text/plain": [
       "ColumnTransformer(transformers=[('num',\n",
       "                                 Pipeline(steps=[('std_scaler',\n",
       "                                                  StandardScaler())]),\n",
       "                                 ['RAM(GB)', 'CPU_Threads', 'Display_Inch',\n",
       "                                  'CPU_TDP(W)', 'GPU_Memory(GB)',\n",
       "                                  'Display_Height(pixel)', 'Weight(kg)',\n",
       "                                  'CPU_L3(MB)', 'CPU_Boosted_Clock',\n",
       "                                  'GPU memory clock(MHz)', 'Storage(GB)']),\n",
       "                                ('cat', OneHotEncoder(),\n",
       "                                 ['GPU_Memory_Type', 'OS', 'RAM_DDR'])])"
      ]
     },
     "execution_count": 163,
     "metadata": {},
     "output_type": "execute_result"
    }
   ],
   "source": [
    "num_pipeline = Pipeline([\n",
    "    ('std_scaler', StandardScaler())\n",
    "])\n",
    "\n",
    "full_pipeline = ColumnTransformer([\n",
    "    ('num', num_pipeline, num_attribs),\n",
    "    ('cat', OneHotEncoder(), cat_attribs)\n",
    "])\n",
    "full_pipeline.fit(X_train_original)"
   ]
  },
  {
   "cell_type": "code",
   "execution_count": 164,
   "id": "7fa63c5e-b5d3-4530-beb7-0db0de7a870f",
   "metadata": {},
   "outputs": [],
   "source": [
    "data_val = pd.read_csv(\"./train_val_test/test.csv\", index_col = 'Unnamed: 0')\n",
    "data_val.drop(['Year', 'CPU_Default_Clock', 'CPU_Transistor_Size(nm)', 'GPU clock(MHz)',\n",
    "           'RAM_bus', 'CPU_Cores', 'GPU_Bus_Width(bit)', 'Display_Width(pixel)', 'Brand', 'CPU', 'GPU', 'Laptop_name'],\n",
    "           axis = 1, inplace = True)\n",
    "y_val = data_val['Price(USD)']\n",
    "X_val = data_val.drop('Price(USD)', axis = 1)\n",
    "X_val_prepared = full_pipeline.transform(X_val)\n",
    "X_val_prepared = pd.DataFrame(X_val_prepared, index = y_val.index, columns = num_attribs + ['GDDR5','GDDR6','LPDDR4X','NoGPU'] + ['Linux', 'MacOS', 'Windows'] + ['DDR1','DDR3','DDR4','DDR5'])"
   ]
  },
  {
   "cell_type": "markdown",
   "id": "fb95c6e1-0528-4c1d-a006-c41bb3d4c8f0",
   "metadata": {},
   "source": [
    "## Ridge Regression"
   ]
  },
  {
   "cell_type": "code",
   "execution_count": 165,
   "id": "59a3c16b-f53f-47cb-84f4-bed870910855",
   "metadata": {
    "tags": []
   },
   "outputs": [],
   "source": [
    "n = 50\n",
    "best_alpha = None\n",
    "best_error = float('inf')\n",
    "best_estimator = None\n",
    "rv = reciprocal(0.001, 10)\n",
    "for alpha in rv.rvs(size = n):\n",
    "    estimator = Ridge(alpha = alpha)\n",
    "    estimator.fit(X_train, y_train)\n",
    "    error = np.sqrt(mean_squared_error(y_val, np.exp(estimator.predict(X_val_prepared))))\n",
    "    if error < best_error:\n",
    "        best_estimator = estimator\n",
    "        best_error = error\n",
    "        best_alpha = alpha"
   ]
  },
  {
   "cell_type": "code",
   "execution_count": 166,
   "id": "92e0815e-705c-4e00-8a8c-9073b4ae57c6",
   "metadata": {},
   "outputs": [
    {
     "name": "stdout",
     "output_type": "stream",
     "text": [
      "best parameter:  6.180376742169328\n",
      "rmse:  1072.919445895982\n"
     ]
    }
   ],
   "source": [
    "print(\"best parameter: \",best_alpha)\n",
    "print(\"rmse: \", best_error)"
   ]
  },
  {
   "cell_type": "code",
   "execution_count": 167,
   "id": "d584759e",
   "metadata": {},
   "outputs": [
    {
     "name": "stdout",
     "output_type": "stream",
     "text": [
      "       RAM(GB)  CPU_Threads  Display_Inch  CPU_TDP(W)  GPU_Memory(GB)  \\\n",
      "637   0.775202     1.009923      0.320551    0.315594        0.284763   \n",
      "1657  0.775202     1.237929      0.320551    1.173579        1.356371   \n",
      "1376  0.775202    -0.130107      0.320551    1.173579        1.356371   \n",
      "733   0.775202    -0.130107     -0.292677   -0.284995       -0.786845   \n",
      "608  -0.060643    -0.130107     -0.292677   -1.400375       -0.786845   \n",
      "...        ...          ...           ...         ...             ...   \n",
      "1399 -0.933467    -0.896487     -1.444908   -1.400375       -0.786845   \n",
      "1031 -0.933467    -0.896487      0.384308   -0.284995       -0.786845   \n",
      "661  -0.103719     0.775202      0.384308    0.315594        1.356371   \n",
      "1654  1.555779     0.775202      0.384308    0.315594        1.356371   \n",
      "783   4.874773     1.611046      1.736337    1.173579        3.499588   \n",
      "\n",
      "      Display_Height(pixel)  Weight(kg)  CPU_L3(MB)  CPU_Boosted_Clock  \\\n",
      "637                0.832400    1.555779    0.781413          -0.490535   \n",
      "1657               1.128640    1.555779    0.781413           0.384308   \n",
      "1376               1.128640   -0.103719    0.781413           0.384308   \n",
      "733               -0.945042   -0.103719   -0.491095          -0.888190   \n",
      "608               -0.945042   -0.103719   -0.491095          -0.888190   \n",
      "...                     ...         ...         ...                ...   \n",
      "1399              -0.546343   -1.475953   -1.212519          -1.954155   \n",
      "1031              -0.546343   -0.335392   -0.905905          -0.586119   \n",
      "661               -0.546343    2.003724    1.547007           0.781917   \n",
      "1654               2.623713    0.766506    1.547007           0.325905   \n",
      "783                2.623713    2.061719    1.547007           1.237929   \n",
      "\n",
      "      GPU memory clock(MHz)  ...  GDDR6  LPDDR4X  NoGPU  Linux  MacOS  \\\n",
      "637                1.355690  ...    1.0      0.0    0.0    0.0    0.0   \n",
      "1657               2.623713  ...    1.0      0.0    0.0    0.0    0.0   \n",
      "1376              -0.546343  ...    1.0      0.0    0.0    0.0    0.0   \n",
      "733               -0.546343  ...    0.0      0.0    1.0    0.0    0.0   \n",
      "608               -0.546343  ...    0.0      0.0    1.0    0.0    0.0   \n",
      "...                     ...  ...    ...      ...    ...    ...    ...   \n",
      "1399              -0.945042  ...    0.0      0.0    1.0    0.0    0.0   \n",
      "1031              -0.945042  ...    0.0      0.0    1.0    0.0    0.0   \n",
      "661                1.128640  ...    1.0      0.0    0.0    0.0    0.0   \n",
      "1654               1.128640  ...    1.0      0.0    0.0    0.0    0.0   \n",
      "783                1.424881  ...    1.0      0.0    0.0    0.0    0.0   \n",
      "\n",
      "      Windows  DDR1  DDR3  DDR4  DDR5  \n",
      "637       1.0   0.0   0.0   0.0   1.0  \n",
      "1657      1.0   0.0   0.0   1.0   0.0  \n",
      "1376      1.0   0.0   0.0   1.0   0.0  \n",
      "733       1.0   0.0   0.0   1.0   0.0  \n",
      "608       1.0   0.0   0.0   1.0   0.0  \n",
      "...       ...   ...   ...   ...   ...  \n",
      "1399      1.0   0.0   0.0   1.0   0.0  \n",
      "1031      1.0   0.0   0.0   1.0   0.0  \n",
      "661       1.0   0.0   0.0   1.0   0.0  \n",
      "1654      1.0   0.0   0.0   1.0   0.0  \n",
      "783       1.0   0.0   0.0   0.0   1.0  \n",
      "\n",
      "[763 rows x 22 columns]\n"
     ]
    }
   ],
   "source": [
    "print(pd.concat([X_train, X_val_prepared]))"
   ]
  },
  {
   "cell_type": "code",
   "execution_count": 168,
   "id": "7658a56f-cf2b-4ff9-ae8f-002cc3f8df40",
   "metadata": {},
   "outputs": [
    {
     "data": {
      "text/html": [
       "<style>#sk-container-id-6 {color: black;background-color: white;}#sk-container-id-6 pre{padding: 0;}#sk-container-id-6 div.sk-toggleable {background-color: white;}#sk-container-id-6 label.sk-toggleable__label {cursor: pointer;display: block;width: 100%;margin-bottom: 0;padding: 0.3em;box-sizing: border-box;text-align: center;}#sk-container-id-6 label.sk-toggleable__label-arrow:before {content: \"▸\";float: left;margin-right: 0.25em;color: #696969;}#sk-container-id-6 label.sk-toggleable__label-arrow:hover:before {color: black;}#sk-container-id-6 div.sk-estimator:hover label.sk-toggleable__label-arrow:before {color: black;}#sk-container-id-6 div.sk-toggleable__content {max-height: 0;max-width: 0;overflow: hidden;text-align: left;background-color: #f0f8ff;}#sk-container-id-6 div.sk-toggleable__content pre {margin: 0.2em;color: black;border-radius: 0.25em;background-color: #f0f8ff;}#sk-container-id-6 input.sk-toggleable__control:checked~div.sk-toggleable__content {max-height: 200px;max-width: 100%;overflow: auto;}#sk-container-id-6 input.sk-toggleable__control:checked~label.sk-toggleable__label-arrow:before {content: \"▾\";}#sk-container-id-6 div.sk-estimator input.sk-toggleable__control:checked~label.sk-toggleable__label {background-color: #d4ebff;}#sk-container-id-6 div.sk-label input.sk-toggleable__control:checked~label.sk-toggleable__label {background-color: #d4ebff;}#sk-container-id-6 input.sk-hidden--visually {border: 0;clip: rect(1px 1px 1px 1px);clip: rect(1px, 1px, 1px, 1px);height: 1px;margin: -1px;overflow: hidden;padding: 0;position: absolute;width: 1px;}#sk-container-id-6 div.sk-estimator {font-family: monospace;background-color: #f0f8ff;border: 1px dotted black;border-radius: 0.25em;box-sizing: border-box;margin-bottom: 0.5em;}#sk-container-id-6 div.sk-estimator:hover {background-color: #d4ebff;}#sk-container-id-6 div.sk-parallel-item::after {content: \"\";width: 100%;border-bottom: 1px solid gray;flex-grow: 1;}#sk-container-id-6 div.sk-label:hover label.sk-toggleable__label {background-color: #d4ebff;}#sk-container-id-6 div.sk-serial::before {content: \"\";position: absolute;border-left: 1px solid gray;box-sizing: border-box;top: 0;bottom: 0;left: 50%;z-index: 0;}#sk-container-id-6 div.sk-serial {display: flex;flex-direction: column;align-items: center;background-color: white;padding-right: 0.2em;padding-left: 0.2em;position: relative;}#sk-container-id-6 div.sk-item {position: relative;z-index: 1;}#sk-container-id-6 div.sk-parallel {display: flex;align-items: stretch;justify-content: center;background-color: white;position: relative;}#sk-container-id-6 div.sk-item::before, #sk-container-id-6 div.sk-parallel-item::before {content: \"\";position: absolute;border-left: 1px solid gray;box-sizing: border-box;top: 0;bottom: 0;left: 50%;z-index: -1;}#sk-container-id-6 div.sk-parallel-item {display: flex;flex-direction: column;z-index: 1;position: relative;background-color: white;}#sk-container-id-6 div.sk-parallel-item:first-child::after {align-self: flex-end;width: 50%;}#sk-container-id-6 div.sk-parallel-item:last-child::after {align-self: flex-start;width: 50%;}#sk-container-id-6 div.sk-parallel-item:only-child::after {width: 0;}#sk-container-id-6 div.sk-dashed-wrapped {border: 1px dashed gray;margin: 0 0.4em 0.5em 0.4em;box-sizing: border-box;padding-bottom: 0.4em;background-color: white;}#sk-container-id-6 div.sk-label label {font-family: monospace;font-weight: bold;display: inline-block;line-height: 1.2em;}#sk-container-id-6 div.sk-label-container {text-align: center;}#sk-container-id-6 div.sk-container {/* jupyter's `normalize.less` sets `[hidden] { display: none; }` but bootstrap.min.css set `[hidden] { display: none !important; }` so we also need the `!important` here to be able to override the default hidden behavior on the sphinx rendered scikit-learn.org. See: https://github.com/scikit-learn/scikit-learn/issues/21755 */display: inline-block !important;position: relative;}#sk-container-id-6 div.sk-text-repr-fallback {display: none;}</style><div id=\"sk-container-id-6\" class=\"sk-top-container\"><div class=\"sk-text-repr-fallback\"><pre>Ridge(alpha=6.180376742169328)</pre><b>In a Jupyter environment, please rerun this cell to show the HTML representation or trust the notebook. <br />On GitHub, the HTML representation is unable to render, please try loading this page with nbviewer.org.</b></div><div class=\"sk-container\" hidden><div class=\"sk-item\"><div class=\"sk-estimator sk-toggleable\"><input class=\"sk-toggleable__control sk-hidden--visually\" id=\"sk-estimator-id-18\" type=\"checkbox\" checked><label for=\"sk-estimator-id-18\" class=\"sk-toggleable__label sk-toggleable__label-arrow\">Ridge</label><div class=\"sk-toggleable__content\"><pre>Ridge(alpha=6.180376742169328)</pre></div></div></div></div></div>"
      ],
      "text/plain": [
       "Ridge(alpha=6.180376742169328)"
      ]
     },
     "execution_count": 168,
     "metadata": {},
     "output_type": "execute_result"
    }
   ],
   "source": [
    "ridge = Ridge(alpha = best_alpha)\n",
    "ridge.fit(pd.concat([X_train, X_val_prepared]), pd.concat([y_train, np.log(y_val)]))"
   ]
  },
  {
   "cell_type": "code",
   "execution_count": 169,
   "id": "b406ce90-3271-4ff6-ab45-44a60be66d4e",
   "metadata": {},
   "outputs": [
    {
     "data": {
      "text/plain": [
       "<AxesSubplot: >"
      ]
     },
     "execution_count": 169,
     "metadata": {},
     "output_type": "execute_result"
    },
    {
     "data": {
      "image/png": "[encoded data removed]",
      "text/plain": [
       "<Figure size 640x480 with 1 Axes>"
      ]
     },
     "metadata": {},
     "output_type": "display_data"
    }
   ],
   "source": [
    "sns.barplot(y = X_train.columns, x = ridge.coef_, orient = 'h')"
   ]
  },
  {
   "cell_type": "code",
   "execution_count": 170,
   "id": "ec786498",
   "metadata": {},
   "outputs": [],
   "source": [
    "pickle.dump(ridge, open('ridgemodel.pkl','wb'))"
   ]
  },
  {
   "cell_type": "code",
   "execution_count": 171,
   "id": "4a5054ec",
   "metadata": {},
   "outputs": [
    {
     "name": "stdout",
     "output_type": "stream",
     "text": [
      "[4.42424946]\n",
      "[83.45015086]\n"
     ]
    },
    {
     "name": "stderr",
     "output_type": "stream",
     "text": [
      "c:\\Users\\Admin\\AppData\\Local\\Programs\\Python\\Python311\\Lib\\site-packages\\sklearn\\base.py:409: UserWarning: X does not have valid feature names, but StandardScaler was fitted with feature names\n",
      "  warnings.warn(\n",
      "c:\\Users\\Admin\\AppData\\Local\\Programs\\Python\\Python311\\Lib\\site-packages\\sklearn\\base.py:409: UserWarning: X does not have valid feature names, but Ridge was fitted with feature names\n",
      "  warnings.warn(\n",
      "c:\\Users\\Admin\\AppData\\Local\\Programs\\Python\\Python311\\Lib\\site-packages\\sklearn\\base.py:409: UserWarning: X does not have valid feature names, but Ridge was fitted with feature names\n",
      "  warnings.warn(\n"
     ]
    }
   ],
   "source": [
    "ridgemodel = pickle.load(open('ridgemodel.pkl','rb'))\n",
    "input1 = [1,1,1,1,1,1,1,1,1,1,1]\n",
    "input1 = list(std_scaler.transform([input1])[0])\n",
    "input2 = [1,0,0,0,1,0,0,1,0,0,0]\n",
    "input = input1+input2\n",
    "print(ridgemodel.predict([input]))\n",
    "output=np.exp(ridgemodel.predict([input])) \n",
    "print(output)  "
   ]
  },
  {
   "cell_type": "markdown",
   "id": "1150a5e5-77f7-47fb-91af-5bfa5bd5b94f",
   "metadata": {},
   "source": [
    "## Lasso Regression"
   ]
  },
  {
   "cell_type": "code",
   "execution_count": 172,
   "id": "e3f7583b-d7f7-43d5-9dd7-260829e756af",
   "metadata": {},
   "outputs": [],
   "source": [
    "n = 50\n",
    "best_alpha = None\n",
    "best_error = float('inf')\n",
    "best_estimator = None\n",
    "rv = reciprocal(0.001, 10)\n",
    "for alpha in rv.rvs(size = n):\n",
    "    estimator = Lasso(alpha = alpha)\n",
    "    estimator.fit(X_train, y_train)\n",
    "    error = np.sqrt(mean_squared_error(y_val, np.exp(estimator.predict(X_val_prepared))))\n",
    "    if error < best_error:\n",
    "        best_estimator = estimator\n",
    "        best_error = error\n",
    "        best_alpha = alpha"
   ]
  },
  {
   "cell_type": "code",
   "execution_count": 173,
   "id": "45c078e8-1091-4b05-9f39-41e4071c56ff",
   "metadata": {},
   "outputs": [
    {
     "name": "stdout",
     "output_type": "stream",
     "text": [
      "best parameter:  0.06456563662481615\n",
      "rmse:  912.1906502599246\n"
     ]
    }
   ],
   "source": [
    "print(\"best parameter: \",best_alpha)\n",
    "print(\"rmse: \", best_error)"
   ]
  },
  {
   "cell_type": "code",
   "execution_count": 174,
   "id": "b5e77f2c-4797-4087-9a00-1f5cb3458cfa",
   "metadata": {},
   "outputs": [
    {
     "data": {
      "text/html": [
       "<style>#sk-container-id-7 {color: black;background-color: white;}#sk-container-id-7 pre{padding: 0;}#sk-container-id-7 div.sk-toggleable {background-color: white;}#sk-container-id-7 label.sk-toggleable__label {cursor: pointer;display: block;width: 100%;margin-bottom: 0;padding: 0.3em;box-sizing: border-box;text-align: center;}#sk-container-id-7 label.sk-toggleable__label-arrow:before {content: \"▸\";float: left;margin-right: 0.25em;color: #696969;}#sk-container-id-7 label.sk-toggleable__label-arrow:hover:before {color: black;}#sk-container-id-7 div.sk-estimator:hover label.sk-toggleable__label-arrow:before {color: black;}#sk-container-id-7 div.sk-toggleable__content {max-height: 0;max-width: 0;overflow: hidden;text-align: left;background-color: #f0f8ff;}#sk-container-id-7 div.sk-toggleable__content pre {margin: 0.2em;color: black;border-radius: 0.25em;background-color: #f0f8ff;}#sk-container-id-7 input.sk-toggleable__control:checked~div.sk-toggleable__content {max-height: 200px;max-width: 100%;overflow: auto;}#sk-container-id-7 input.sk-toggleable__control:checked~label.sk-toggleable__label-arrow:before {content: \"▾\";}#sk-container-id-7 div.sk-estimator input.sk-toggleable__control:checked~label.sk-toggleable__label {background-color: #d4ebff;}#sk-container-id-7 div.sk-label input.sk-toggleable__control:checked~label.sk-toggleable__label {background-color: #d4ebff;}#sk-container-id-7 input.sk-hidden--visually {border: 0;clip: rect(1px 1px 1px 1px);clip: rect(1px, 1px, 1px, 1px);height: 1px;margin: -1px;overflow: hidden;padding: 0;position: absolute;width: 1px;}#sk-container-id-7 div.sk-estimator {font-family: monospace;background-color: #f0f8ff;border: 1px dotted black;border-radius: 0.25em;box-sizing: border-box;margin-bottom: 0.5em;}#sk-container-id-7 div.sk-estimator:hover {background-color: #d4ebff;}#sk-container-id-7 div.sk-parallel-item::after {content: \"\";width: 100%;border-bottom: 1px solid gray;flex-grow: 1;}#sk-container-id-7 div.sk-label:hover label.sk-toggleable__label {background-color: #d4ebff;}#sk-container-id-7 div.sk-serial::before {content: \"\";position: absolute;border-left: 1px solid gray;box-sizing: border-box;top: 0;bottom: 0;left: 50%;z-index: 0;}#sk-container-id-7 div.sk-serial {display: flex;flex-direction: column;align-items: center;background-color: white;padding-right: 0.2em;padding-left: 0.2em;position: relative;}#sk-container-id-7 div.sk-item {position: relative;z-index: 1;}#sk-container-id-7 div.sk-parallel {display: flex;align-items: stretch;justify-content: center;background-color: white;position: relative;}#sk-container-id-7 div.sk-item::before, #sk-container-id-7 div.sk-parallel-item::before {content: \"\";position: absolute;border-left: 1px solid gray;box-sizing: border-box;top: 0;bottom: 0;left: 50%;z-index: -1;}#sk-container-id-7 div.sk-parallel-item {display: flex;flex-direction: column;z-index: 1;position: relative;background-color: white;}#sk-container-id-7 div.sk-parallel-item:first-child::after {align-self: flex-end;width: 50%;}#sk-container-id-7 div.sk-parallel-item:last-child::after {align-self: flex-start;width: 50%;}#sk-container-id-7 div.sk-parallel-item:only-child::after {width: 0;}#sk-container-id-7 div.sk-dashed-wrapped {border: 1px dashed gray;margin: 0 0.4em 0.5em 0.4em;box-sizing: border-box;padding-bottom: 0.4em;background-color: white;}#sk-container-id-7 div.sk-label label {font-family: monospace;font-weight: bold;display: inline-block;line-height: 1.2em;}#sk-container-id-7 div.sk-label-container {text-align: center;}#sk-container-id-7 div.sk-container {/* jupyter's `normalize.less` sets `[hidden] { display: none; }` but bootstrap.min.css set `[hidden] { display: none !important; }` so we also need the `!important` here to be able to override the default hidden behavior on the sphinx rendered scikit-learn.org. See: https://github.com/scikit-learn/scikit-learn/issues/21755 */display: inline-block !important;position: relative;}#sk-container-id-7 div.sk-text-repr-fallback {display: none;}</style><div id=\"sk-container-id-7\" class=\"sk-top-container\"><div class=\"sk-text-repr-fallback\"><pre>Lasso(alpha=0.06456563662481615)</pre><b>In a Jupyter environment, please rerun this cell to show the HTML representation or trust the notebook. <br />On GitHub, the HTML representation is unable to render, please try loading this page with nbviewer.org.</b></div><div class=\"sk-container\" hidden><div class=\"sk-item\"><div class=\"sk-estimator sk-toggleable\"><input class=\"sk-toggleable__control sk-hidden--visually\" id=\"sk-estimator-id-19\" type=\"checkbox\" checked><label for=\"sk-estimator-id-19\" class=\"sk-toggleable__label sk-toggleable__label-arrow\">Lasso</label><div class=\"sk-toggleable__content\"><pre>Lasso(alpha=0.06456563662481615)</pre></div></div></div></div></div>"
      ],
      "text/plain": [
       "Lasso(alpha=0.06456563662481615)"
      ]
     },
     "execution_count": 174,
     "metadata": {},
     "output_type": "execute_result"
    }
   ],
   "source": [
    "lasso = Lasso(alpha = best_alpha)\n",
    "lasso.fit(pd.concat([X_train, X_val_prepared]), pd.concat([y_train, np.log(y_val)]))"
   ]
  },
  {
   "cell_type": "code",
   "execution_count": 175,
   "id": "9b594c92-5e50-4f65-92cd-b0dc71ad6970",
   "metadata": {},
   "outputs": [
    {
     "data": {
      "text/plain": [
       "<AxesSubplot: >"
      ]
     },
     "execution_count": 175,
     "metadata": {},
     "output_type": "execute_result"
    },
    {
     "data": {
      "image/png": "[encoded data removed]",
      "text/plain": [
       "<Figure size 640x480 with 1 Axes>"
      ]
     },
     "metadata": {},
     "output_type": "display_data"
    }
   ],
   "source": [
    "sns.barplot(y = X_train.columns, x = lasso.coef_, orient = 'h')"
   ]
  },
  {
   "cell_type": "code",
   "execution_count": 176,
   "id": "04ddb2a6",
   "metadata": {},
   "outputs": [],
   "source": [
    "pickle.dump(lasso, open('lassomodel.pkl','wb'))"
   ]
  },
  {
   "cell_type": "code",
   "execution_count": 177,
   "id": "f3e0ba83",
   "metadata": {},
   "outputs": [
    {
     "name": "stdout",
     "output_type": "stream",
     "text": [
      "[5.52429145]\n"
     ]
    },
    {
     "name": "stderr",
     "output_type": "stream",
     "text": [
      "c:\\Users\\Admin\\AppData\\Local\\Programs\\Python\\Python311\\Lib\\site-packages\\sklearn\\base.py:409: UserWarning: X does not have valid feature names, but Lasso was fitted with feature names\n",
      "  warnings.warn(\n"
     ]
    }
   ],
   "source": [
    "lassomodel = pickle.load(open('lassomodel.pkl','rb'))\n",
    "print(lassomodel.predict([input])) "
   ]
  },
  {
   "cell_type": "markdown",
   "id": "8db9bb2d-1f04-4653-8e99-558ad4b7bad1",
   "metadata": {},
   "source": [
    "## Random Forest"
   ]
  },
  {
   "cell_type": "code",
   "execution_count": 178,
   "id": "67e63c4b-eef8-46db-95d9-9f687961f168",
   "metadata": {},
   "outputs": [],
   "source": [
    "max_n_estimators = 100\n",
    "best_n_estimators = None\n",
    "best_error = float('inf')\n",
    "best_estimator = None\n",
    "errors = []\n",
    "for n_estimators in range(1, max_n_estimators):\n",
    "    estimator = RandomForestRegressor(n_estimators = n_estimators)\n",
    "    estimator.fit(X_train, y_train)\n",
    "    error = np.sqrt(mean_squared_error(y_val, np.exp(estimator.predict(X_val_prepared))))\n",
    "    errors.append(error)\n",
    "    if error < best_error:\n",
    "        best_estimator = estimator\n",
    "        best_error = error\n",
    "        best_n_estimators = n_estimators"
   ]
  },
  {
   "cell_type": "code",
   "execution_count": 179,
   "id": "052bb967-8d42-4668-9358-6ddc64159842",
   "metadata": {
    "tags": []
   },
   "outputs": [
    {
     "data": {
      "text/plain": [
       "[<matplotlib.lines.Line2D at 0x1e23ceb7e10>]"
      ]
     },
     "execution_count": 179,
     "metadata": {},
     "output_type": "execute_result"
    },
    {
     "data": {
      "image/png": "[encoded data removed]",
      "text/plain": [
       "<Figure size 1500x500 with 1 Axes>"
      ]
     },
     "metadata": {},
     "output_type": "display_data"
    }
   ],
   "source": [
    "plt.figure(figsize = (15, 5))\n",
    "plt.plot(range(1, max_n_estimators), errors)"
   ]
  },
  {
   "cell_type": "code",
   "execution_count": 180,
   "id": "55a5af51-e1de-494c-b01f-694c0016fd6e",
   "metadata": {},
   "outputs": [
    {
     "name": "stdout",
     "output_type": "stream",
     "text": [
      "best parameter:  12\n",
      "rmse:  894.9840899395381\n"
     ]
    }
   ],
   "source": [
    "print(\"best parameter: \",best_n_estimators)\n",
    "print(\"rmse: \", best_error)"
   ]
  },
  {
   "cell_type": "code",
   "execution_count": 181,
   "id": "d984e448-7683-4471-a45b-628f21c1ef94",
   "metadata": {},
   "outputs": [
    {
     "data": {
      "text/html": [
       "<style>#sk-container-id-8 {color: black;background-color: white;}#sk-container-id-8 pre{padding: 0;}#sk-container-id-8 div.sk-toggleable {background-color: white;}#sk-container-id-8 label.sk-toggleable__label {cursor: pointer;display: block;width: 100%;margin-bottom: 0;padding: 0.3em;box-sizing: border-box;text-align: center;}#sk-container-id-8 label.sk-toggleable__label-arrow:before {content: \"▸\";float: left;margin-right: 0.25em;color: #696969;}#sk-container-id-8 label.sk-toggleable__label-arrow:hover:before {color: black;}#sk-container-id-8 div.sk-estimator:hover label.sk-toggleable__label-arrow:before {color: black;}#sk-container-id-8 div.sk-toggleable__content {max-height: 0;max-width: 0;overflow: hidden;text-align: left;background-color: #f0f8ff;}#sk-container-id-8 div.sk-toggleable__content pre {margin: 0.2em;color: black;border-radius: 0.25em;background-color: #f0f8ff;}#sk-container-id-8 input.sk-toggleable__control:checked~div.sk-toggleable__content {max-height: 200px;max-width: 100%;overflow: auto;}#sk-container-id-8 input.sk-toggleable__control:checked~label.sk-toggleable__label-arrow:before {content: \"▾\";}#sk-container-id-8 div.sk-estimator input.sk-toggleable__control:checked~label.sk-toggleable__label {background-color: #d4ebff;}#sk-container-id-8 div.sk-label input.sk-toggleable__control:checked~label.sk-toggleable__label {background-color: #d4ebff;}#sk-container-id-8 input.sk-hidden--visually {border: 0;clip: rect(1px 1px 1px 1px);clip: rect(1px, 1px, 1px, 1px);height: 1px;margin: -1px;overflow: hidden;padding: 0;position: absolute;width: 1px;}#sk-container-id-8 div.sk-estimator {font-family: monospace;background-color: #f0f8ff;border: 1px dotted black;border-radius: 0.25em;box-sizing: border-box;margin-bottom: 0.5em;}#sk-container-id-8 div.sk-estimator:hover {background-color: #d4ebff;}#sk-container-id-8 div.sk-parallel-item::after {content: \"\";width: 100%;border-bottom: 1px solid gray;flex-grow: 1;}#sk-container-id-8 div.sk-label:hover label.sk-toggleable__label {background-color: #d4ebff;}#sk-container-id-8 div.sk-serial::before {content: \"\";position: absolute;border-left: 1px solid gray;box-sizing: border-box;top: 0;bottom: 0;left: 50%;z-index: 0;}#sk-container-id-8 div.sk-serial {display: flex;flex-direction: column;align-items: center;background-color: white;padding-right: 0.2em;padding-left: 0.2em;position: relative;}#sk-container-id-8 div.sk-item {position: relative;z-index: 1;}#sk-container-id-8 div.sk-parallel {display: flex;align-items: stretch;justify-content: center;background-color: white;position: relative;}#sk-container-id-8 div.sk-item::before, #sk-container-id-8 div.sk-parallel-item::before {content: \"\";position: absolute;border-left: 1px solid gray;box-sizing: border-box;top: 0;bottom: 0;left: 50%;z-index: -1;}#sk-container-id-8 div.sk-parallel-item {display: flex;flex-direction: column;z-index: 1;position: relative;background-color: white;}#sk-container-id-8 div.sk-parallel-item:first-child::after {align-self: flex-end;width: 50%;}#sk-container-id-8 div.sk-parallel-item:last-child::after {align-self: flex-start;width: 50%;}#sk-container-id-8 div.sk-parallel-item:only-child::after {width: 0;}#sk-container-id-8 div.sk-dashed-wrapped {border: 1px dashed gray;margin: 0 0.4em 0.5em 0.4em;box-sizing: border-box;padding-bottom: 0.4em;background-color: white;}#sk-container-id-8 div.sk-label label {font-family: monospace;font-weight: bold;display: inline-block;line-height: 1.2em;}#sk-container-id-8 div.sk-label-container {text-align: center;}#sk-container-id-8 div.sk-container {/* jupyter's `normalize.less` sets `[hidden] { display: none; }` but bootstrap.min.css set `[hidden] { display: none !important; }` so we also need the `!important` here to be able to override the default hidden behavior on the sphinx rendered scikit-learn.org. See: https://github.com/scikit-learn/scikit-learn/issues/21755 */display: inline-block !important;position: relative;}#sk-container-id-8 div.sk-text-repr-fallback {display: none;}</style><div id=\"sk-container-id-8\" class=\"sk-top-container\"><div class=\"sk-text-repr-fallback\"><pre>RandomForestRegressor(n_estimators=12)</pre><b>In a Jupyter environment, please rerun this cell to show the HTML representation or trust the notebook. <br />On GitHub, the HTML representation is unable to render, please try loading this page with nbviewer.org.</b></div><div class=\"sk-container\" hidden><div class=\"sk-item\"><div class=\"sk-estimator sk-toggleable\"><input class=\"sk-toggleable__control sk-hidden--visually\" id=\"sk-estimator-id-20\" type=\"checkbox\" checked><label for=\"sk-estimator-id-20\" class=\"sk-toggleable__label sk-toggleable__label-arrow\">RandomForestRegressor</label><div class=\"sk-toggleable__content\"><pre>RandomForestRegressor(n_estimators=12)</pre></div></div></div></div></div>"
      ],
      "text/plain": [
       "RandomForestRegressor(n_estimators=12)"
      ]
     },
     "execution_count": 181,
     "metadata": {},
     "output_type": "execute_result"
    }
   ],
   "source": [
    "forest_reg = RandomForestRegressor(n_estimators = best_n_estimators)\n",
    "forest_reg.fit(pd.concat([X_train, X_val_prepared]), pd.concat([y_train, np.log(y_val)]))"
   ]
  },
  {
   "cell_type": "code",
   "execution_count": 182,
   "id": "267355aa-a7df-430a-b6a1-b88842526d9f",
   "metadata": {},
   "outputs": [
    {
     "data": {
      "text/plain": [
       "Text(0.5, 0, '%')"
      ]
     },
     "execution_count": 182,
     "metadata": {},
     "output_type": "execute_result"
    },
    {
     "data": {
      "image/png": "[encoded data removed]",
      "text/plain": [
       "<Figure size 640x480 with 1 Axes>"
      ]
     },
     "metadata": {},
     "output_type": "display_data"
    }
   ],
   "source": [
    "sns.barplot(y = X_train.columns, x = forest_reg.feature_importances_ * 100, orient = 'h')\n",
    "plt.xlabel('%')"
   ]
  },
  {
   "cell_type": "code",
   "execution_count": 183,
   "id": "fb23841d",
   "metadata": {},
   "outputs": [],
   "source": [
    "pickle.dump(forest_reg, open('forestmodel.pkl','wb'))"
   ]
  },
  {
   "cell_type": "code",
   "execution_count": 184,
   "id": "a8dba02c",
   "metadata": {},
   "outputs": [
    {
     "name": "stdout",
     "output_type": "stream",
     "text": [
      "[5.91106539]\n"
     ]
    },
    {
     "name": "stderr",
     "output_type": "stream",
     "text": [
      "c:\\Users\\Admin\\AppData\\Local\\Programs\\Python\\Python311\\Lib\\site-packages\\sklearn\\base.py:409: UserWarning: X does not have valid feature names, but RandomForestRegressor was fitted with feature names\n",
      "  warnings.warn(\n"
     ]
    }
   ],
   "source": [
    "forestmodel = pickle.load(open('forestmodel.pkl','rb'))\n",
    "print(forestmodel.predict([input]))"
   ]
  },
  {
   "cell_type": "markdown",
   "id": "4a2f83ac-1ba3-4ab6-ba28-268862d20e04",
   "metadata": {},
   "source": [
    "## Extreme Gradient Boosting"
   ]
  },
  {
   "cell_type": "code",
   "execution_count": 185,
   "id": "3ea02d8e-edad-4028-ad8f-3eec6e921e52",
   "metadata": {},
   "outputs": [],
   "source": [
    "max_n_estimators = 100\n",
    "best_n_estimators = None\n",
    "best_error = float('inf')\n",
    "best_estimator = None\n",
    "errors = []\n",
    "for n_estimators in range(1, max_n_estimators):\n",
    "    estimator = xgb.XGBRegressor(n_estimators = n_estimators)\n",
    "    estimator.fit(X_train, y_train)\n",
    "    error = np.sqrt(mean_squared_error(y_val, np.exp(estimator.predict(X_val_prepared))))\n",
    "    errors.append(error)\n",
    "    if error < best_error:\n",
    "        best_estimator = estimator\n",
    "        best_error = error\n",
    "        best_n_estimators = n_estimators"
   ]
  },
  {
   "cell_type": "code",
   "execution_count": 186,
   "id": "dd9d7330-9e22-4f04-b54a-b07ffaf78957",
   "metadata": {},
   "outputs": [
    {
     "data": {
      "text/plain": [
       "[<matplotlib.lines.Line2D at 0x1e23cb68c10>]"
      ]
     },
     "execution_count": 186,
     "metadata": {},
     "output_type": "execute_result"
    },
    {
     "data": {
      "image/png": "[encoded data removed]",
      "text/plain": [
       "<Figure size 1500x500 with 1 Axes>"
      ]
     },
     "metadata": {},
     "output_type": "display_data"
    }
   ],
   "source": [
    "plt.figure(figsize = (15, 5))\n",
    "plt.plot(range(1, max_n_estimators), errors) "
   ]
  },
  {
   "cell_type": "code",
   "execution_count": 187,
   "id": "b66da4ef-0d25-4ef6-92b9-2ca59fed534e",
   "metadata": {},
   "outputs": [
    {
     "name": "stdout",
     "output_type": "stream",
     "text": [
      "best parameter:  92\n",
      "rmse:  929.8850139452576\n"
     ]
    }
   ],
   "source": [
    "print(\"best parameter: \",best_n_estimators)\n",
    "print(\"rmse: \", best_error)"
   ]
  },
  {
   "cell_type": "code",
   "execution_count": 188,
   "id": "ea61e202-5817-453b-aab5-8f4948cc0de6",
   "metadata": {},
   "outputs": [
    {
     "data": {
      "text/html": [
       "<style>#sk-container-id-9 {color: black;background-color: white;}#sk-container-id-9 pre{padding: 0;}#sk-container-id-9 div.sk-toggleable {background-color: white;}#sk-container-id-9 label.sk-toggleable__label {cursor: pointer;display: block;width: 100%;margin-bottom: 0;padding: 0.3em;box-sizing: border-box;text-align: center;}#sk-container-id-9 label.sk-toggleable__label-arrow:before {content: \"▸\";float: left;margin-right: 0.25em;color: #696969;}#sk-container-id-9 label.sk-toggleable__label-arrow:hover:before {color: black;}#sk-container-id-9 div.sk-estimator:hover label.sk-toggleable__label-arrow:before {color: black;}#sk-container-id-9 div.sk-toggleable__content {max-height: 0;max-width: 0;overflow: hidden;text-align: left;background-color: #f0f8ff;}#sk-container-id-9 div.sk-toggleable__content pre {margin: 0.2em;color: black;border-radius: 0.25em;background-color: #f0f8ff;}#sk-container-id-9 input.sk-toggleable__control:checked~div.sk-toggleable__content {max-height: 200px;max-width: 100%;overflow: auto;}#sk-container-id-9 input.sk-toggleable__control:checked~label.sk-toggleable__label-arrow:before {content: \"▾\";}#sk-container-id-9 div.sk-estimator input.sk-toggleable__control:checked~label.sk-toggleable__label {background-color: #d4ebff;}#sk-container-id-9 div.sk-label input.sk-toggleable__control:checked~label.sk-toggleable__label {background-color: #d4ebff;}#sk-container-id-9 input.sk-hidden--visually {border: 0;clip: rect(1px 1px 1px 1px);clip: rect(1px, 1px, 1px, 1px);height: 1px;margin: -1px;overflow: hidden;padding: 0;position: absolute;width: 1px;}#sk-container-id-9 div.sk-estimator {font-family: monospace;background-color: #f0f8ff;border: 1px dotted black;border-radius: 0.25em;box-sizing: border-box;margin-bottom: 0.5em;}#sk-container-id-9 div.sk-estimator:hover {background-color: #d4ebff;}#sk-container-id-9 div.sk-parallel-item::after {content: \"\";width: 100%;border-bottom: 1px solid gray;flex-grow: 1;}#sk-container-id-9 div.sk-label:hover label.sk-toggleable__label {background-color: #d4ebff;}#sk-container-id-9 div.sk-serial::before {content: \"\";position: absolute;border-left: 1px solid gray;box-sizing: border-box;top: 0;bottom: 0;left: 50%;z-index: 0;}#sk-container-id-9 div.sk-serial {display: flex;flex-direction: column;align-items: center;background-color: white;padding-right: 0.2em;padding-left: 0.2em;position: relative;}#sk-container-id-9 div.sk-item {position: relative;z-index: 1;}#sk-container-id-9 div.sk-parallel {display: flex;align-items: stretch;justify-content: center;background-color: white;position: relative;}#sk-container-id-9 div.sk-item::before, #sk-container-id-9 div.sk-parallel-item::before {content: \"\";position: absolute;border-left: 1px solid gray;box-sizing: border-box;top: 0;bottom: 0;left: 50%;z-index: -1;}#sk-container-id-9 div.sk-parallel-item {display: flex;flex-direction: column;z-index: 1;position: relative;background-color: white;}#sk-container-id-9 div.sk-parallel-item:first-child::after {align-self: flex-end;width: 50%;}#sk-container-id-9 div.sk-parallel-item:last-child::after {align-self: flex-start;width: 50%;}#sk-container-id-9 div.sk-parallel-item:only-child::after {width: 0;}#sk-container-id-9 div.sk-dashed-wrapped {border: 1px dashed gray;margin: 0 0.4em 0.5em 0.4em;box-sizing: border-box;padding-bottom: 0.4em;background-color: white;}#sk-container-id-9 div.sk-label label {font-family: monospace;font-weight: bold;display: inline-block;line-height: 1.2em;}#sk-container-id-9 div.sk-label-container {text-align: center;}#sk-container-id-9 div.sk-container {/* jupyter's `normalize.less` sets `[hidden] { display: none; }` but bootstrap.min.css set `[hidden] { display: none !important; }` so we also need the `!important` here to be able to override the default hidden behavior on the sphinx rendered scikit-learn.org. See: https://github.com/scikit-learn/scikit-learn/issues/21755 */display: inline-block !important;position: relative;}#sk-container-id-9 div.sk-text-repr-fallback {display: none;}</style><div id=\"sk-container-id-9\" class=\"sk-top-container\"><div class=\"sk-text-repr-fallback\"><pre>XGBRegressor(base_score=None, booster=None, callbacks=None,\n",
       "             colsample_bylevel=None, colsample_bynode=None,\n",
       "             colsample_bytree=None, early_stopping_rounds=None,\n",
       "             enable_categorical=False, eval_metric=None, feature_types=None,\n",
       "             gamma=None, gpu_id=None, grow_policy=None, importance_type=None,\n",
       "             interaction_constraints=None, learning_rate=None, max_bin=None,\n",
       "             max_cat_threshold=None, max_cat_to_onehot=None,\n",
       "             max_delta_step=None, max_depth=None, max_leaves=None,\n",
       "             min_child_weight=None, missing=nan, monotone_constraints=None,\n",
       "             n_estimators=92, n_jobs=None, num_parallel_tree=None,\n",
       "             predictor=None, random_state=None, ...)</pre><b>In a Jupyter environment, please rerun this cell to show the HTML representation or trust the notebook. <br />On GitHub, the HTML representation is unable to render, please try loading this page with nbviewer.org.</b></div><div class=\"sk-container\" hidden><div class=\"sk-item\"><div class=\"sk-estimator sk-toggleable\"><input class=\"sk-toggleable__control sk-hidden--visually\" id=\"sk-estimator-id-21\" type=\"checkbox\" checked><label for=\"sk-estimator-id-21\" class=\"sk-toggleable__label sk-toggleable__label-arrow\">XGBRegressor</label><div class=\"sk-toggleable__content\"><pre>XGBRegressor(base_score=None, booster=None, callbacks=None,\n",
       "             colsample_bylevel=None, colsample_bynode=None,\n",
       "             colsample_bytree=None, early_stopping_rounds=None,\n",
       "             enable_categorical=False, eval_metric=None, feature_types=None,\n",
       "             gamma=None, gpu_id=None, grow_policy=None, importance_type=None,\n",
       "             interaction_constraints=None, learning_rate=None, max_bin=None,\n",
       "             max_cat_threshold=None, max_cat_to_onehot=None,\n",
       "             max_delta_step=None, max_depth=None, max_leaves=None,\n",
       "             min_child_weight=None, missing=nan, monotone_constraints=None,\n",
       "             n_estimators=92, n_jobs=None, num_parallel_tree=None,\n",
       "             predictor=None, random_state=None, ...)</pre></div></div></div></div></div>"
      ],
      "text/plain": [
       "XGBRegressor(base_score=None, booster=None, callbacks=None,\n",
       "             colsample_bylevel=None, colsample_bynode=None,\n",
       "             colsample_bytree=None, early_stopping_rounds=None,\n",
       "             enable_categorical=False, eval_metric=None, feature_types=None,\n",
       "             gamma=None, gpu_id=None, grow_policy=None, importance_type=None,\n",
       "             interaction_constraints=None, learning_rate=None, max_bin=None,\n",
       "             max_cat_threshold=None, max_cat_to_onehot=None,\n",
       "             max_delta_step=None, max_depth=None, max_leaves=None,\n",
       "             min_child_weight=None, missing=nan, monotone_constraints=None,\n",
       "             n_estimators=92, n_jobs=None, num_parallel_tree=None,\n",
       "             predictor=None, random_state=None, ...)"
      ]
     },
     "execution_count": 188,
     "metadata": {},
     "output_type": "execute_result"
    }
   ],
   "source": [
    "xgb_reg = xgb.XGBRegressor(n_estimators = best_n_estimators)\n",
    "xgb_reg.fit(pd.concat([X_train, X_val_prepared]), pd.concat([y_train, np.log(y_val)]))"
   ]
  },
  {
   "cell_type": "code",
   "execution_count": 189,
   "id": "3eafcc34-32d8-4f07-95ea-2780ea178828",
   "metadata": {},
   "outputs": [
    {
     "data": {
      "text/plain": [
       "Text(0.5, 0, '%')"
      ]
     },
     "execution_count": 189,
     "metadata": {},
     "output_type": "execute_result"
    },
    {
     "data": {
      "image/png": "[encoded data removed]",
      "text/plain": [
       "<Figure size 640x480 with 1 Axes>"
      ]
     },
     "metadata": {},
     "output_type": "display_data"
    }
   ],
   "source": [
    "sns.barplot(y = X_train.columns, x = xgb_reg.feature_importances_ * 100, orient = 'h')\n",
    "plt.xlabel('%')"
   ]
  },
  {
   "cell_type": "code",
   "execution_count": 190,
   "id": "9625b502",
   "metadata": {},
   "outputs": [],
   "source": [
    "pickle.dump(xgb_reg, open('xgbmodel.pkl','wb'))"
   ]
  },
  {
   "cell_type": "code",
   "execution_count": 191,
   "id": "972eb90b",
   "metadata": {},
   "outputs": [
    {
     "ename": "ValueError",
     "evalue": "training data did not have the following fields: RAM(GB), CPU_Threads, Display_Inch, CPU_TDP(W), GPU_Memory(GB), Display_Height(pixel), Weight(kg), CPU_L3(MB), CPU_Boosted_Clock, GPU memory clock(MHz), Storage(GB), GDDR5, GDDR6, LPDDR4X, NoGPU, Linux, MacOS, Windows, DDR1, DDR3, DDR4, DDR5",
     "output_type": "error",
     "traceback": [
      "\u001b[1;31m---------------------------------------------------------------------------\u001b[0m",
      "\u001b[1;31mValueError\u001b[0m                                Traceback (most recent call last)",
      "Cell \u001b[1;32mIn[191], line 2\u001b[0m\n\u001b[0;32m      1\u001b[0m xgbmodel \u001b[39m=\u001b[39m pickle\u001b[39m.\u001b[39mload(\u001b[39mopen\u001b[39m(\u001b[39m'\u001b[39m\u001b[39mxgbmodel.pkl\u001b[39m\u001b[39m'\u001b[39m,\u001b[39m'\u001b[39m\u001b[39mrb\u001b[39m\u001b[39m'\u001b[39m))\n\u001b[1;32m----> 2\u001b[0m \u001b[39mprint\u001b[39m(xgbmodel\u001b[39m.\u001b[39;49mpredict([\u001b[39minput\u001b[39;49m])) \n",
      "File \u001b[1;32mc:\\Users\\Admin\\AppData\\Local\\Programs\\Python\\Python311\\Lib\\site-packages\\xgboost\\sklearn.py:1139\u001b[0m, in \u001b[0;36mXGBModel.predict\u001b[1;34m(self, X, output_margin, ntree_limit, validate_features, base_margin, iteration_range)\u001b[0m\n\u001b[0;32m   1129\u001b[0m         \u001b[39mpass\u001b[39;00m\n\u001b[0;32m   1131\u001b[0m test \u001b[39m=\u001b[39m DMatrix(\n\u001b[0;32m   1132\u001b[0m     X,\n\u001b[0;32m   1133\u001b[0m     base_margin\u001b[39m=\u001b[39mbase_margin,\n\u001b[1;32m   (...)\u001b[0m\n\u001b[0;32m   1137\u001b[0m     enable_categorical\u001b[39m=\u001b[39m\u001b[39mself\u001b[39m\u001b[39m.\u001b[39menable_categorical,\n\u001b[0;32m   1138\u001b[0m )\n\u001b[1;32m-> 1139\u001b[0m \u001b[39mreturn\u001b[39;00m \u001b[39mself\u001b[39;49m\u001b[39m.\u001b[39;49mget_booster()\u001b[39m.\u001b[39;49mpredict(\n\u001b[0;32m   1140\u001b[0m     data\u001b[39m=\u001b[39;49mtest,\n\u001b[0;32m   1141\u001b[0m     iteration_range\u001b[39m=\u001b[39;49miteration_range,\n\u001b[0;32m   1142\u001b[0m     output_margin\u001b[39m=\u001b[39;49moutput_margin,\n\u001b[0;32m   1143\u001b[0m     validate_features\u001b[39m=\u001b[39;49mvalidate_features,\n\u001b[0;32m   1144\u001b[0m )\n",
      "File \u001b[1;32mc:\\Users\\Admin\\AppData\\Local\\Programs\\Python\\Python311\\Lib\\site-packages\\xgboost\\core.py:2137\u001b[0m, in \u001b[0;36mBooster.predict\u001b[1;34m(self, data, output_margin, ntree_limit, pred_leaf, pred_contribs, approx_contribs, pred_interactions, validate_features, training, iteration_range, strict_shape)\u001b[0m\n\u001b[0;32m   2135\u001b[0m     \u001b[39mraise\u001b[39;00m \u001b[39mTypeError\u001b[39;00m(\u001b[39m'\u001b[39m\u001b[39mExpecting data to be a DMatrix object, got: \u001b[39m\u001b[39m'\u001b[39m, \u001b[39mtype\u001b[39m(data))\n\u001b[0;32m   2136\u001b[0m \u001b[39mif\u001b[39;00m validate_features:\n\u001b[1;32m-> 2137\u001b[0m     \u001b[39mself\u001b[39;49m\u001b[39m.\u001b[39;49m_validate_dmatrix_features(data)\n\u001b[0;32m   2138\u001b[0m iteration_range \u001b[39m=\u001b[39m _convert_ntree_limit(\u001b[39mself\u001b[39m, ntree_limit, iteration_range)\n\u001b[0;32m   2139\u001b[0m args \u001b[39m=\u001b[39m {\n\u001b[0;32m   2140\u001b[0m     \u001b[39m\"\u001b[39m\u001b[39mtype\u001b[39m\u001b[39m\"\u001b[39m: \u001b[39m0\u001b[39m,\n\u001b[0;32m   2141\u001b[0m     \u001b[39m\"\u001b[39m\u001b[39mtraining\u001b[39m\u001b[39m\"\u001b[39m: training,\n\u001b[1;32m   (...)\u001b[0m\n\u001b[0;32m   2144\u001b[0m     \u001b[39m\"\u001b[39m\u001b[39mstrict_shape\u001b[39m\u001b[39m\"\u001b[39m: strict_shape,\n\u001b[0;32m   2145\u001b[0m }\n",
      "File \u001b[1;32mc:\\Users\\Admin\\AppData\\Local\\Programs\\Python\\Python311\\Lib\\site-packages\\xgboost\\core.py:2744\u001b[0m, in \u001b[0;36mBooster._validate_dmatrix_features\u001b[1;34m(self, data)\u001b[0m\n\u001b[0;32m   2741\u001b[0m \u001b[39mif\u001b[39;00m \u001b[39mself\u001b[39m\u001b[39m.\u001b[39mfeature_types \u001b[39mis\u001b[39;00m \u001b[39mNone\u001b[39;00m:\n\u001b[0;32m   2742\u001b[0m     \u001b[39mself\u001b[39m\u001b[39m.\u001b[39mfeature_types \u001b[39m=\u001b[39m ft\n\u001b[1;32m-> 2744\u001b[0m \u001b[39mself\u001b[39;49m\u001b[39m.\u001b[39;49m_validate_features(fn)\n",
      "File \u001b[1;32mc:\\Users\\Admin\\AppData\\Local\\Programs\\Python\\Python311\\Lib\\site-packages\\xgboost\\core.py:2751\u001b[0m, in \u001b[0;36mBooster._validate_features\u001b[1;34m(self, feature_names)\u001b[0m\n\u001b[0;32m   2748\u001b[0m     \u001b[39mreturn\u001b[39;00m\n\u001b[0;32m   2750\u001b[0m \u001b[39mif\u001b[39;00m feature_names \u001b[39mis\u001b[39;00m \u001b[39mNone\u001b[39;00m \u001b[39mand\u001b[39;00m \u001b[39mself\u001b[39m\u001b[39m.\u001b[39mfeature_names \u001b[39mis\u001b[39;00m \u001b[39mnot\u001b[39;00m \u001b[39mNone\u001b[39;00m:\n\u001b[1;32m-> 2751\u001b[0m     \u001b[39mraise\u001b[39;00m \u001b[39mValueError\u001b[39;00m(\n\u001b[0;32m   2752\u001b[0m         \u001b[39m\"\u001b[39m\u001b[39mtraining data did not have the following fields: \u001b[39m\u001b[39m\"\u001b[39m\n\u001b[0;32m   2753\u001b[0m         \u001b[39m+\u001b[39m \u001b[39m\"\u001b[39m\u001b[39m, \u001b[39m\u001b[39m\"\u001b[39m\u001b[39m.\u001b[39mjoin(\u001b[39mself\u001b[39m\u001b[39m.\u001b[39mfeature_names)\n\u001b[0;32m   2754\u001b[0m     )\n\u001b[0;32m   2756\u001b[0m \u001b[39mif\u001b[39;00m \u001b[39mself\u001b[39m\u001b[39m.\u001b[39mfeature_names \u001b[39m!=\u001b[39m feature_names:\n\u001b[0;32m   2757\u001b[0m     dat_missing \u001b[39m=\u001b[39m \u001b[39mset\u001b[39m(cast(FeatureNames, \u001b[39mself\u001b[39m\u001b[39m.\u001b[39mfeature_names)) \u001b[39m-\u001b[39m \u001b[39mset\u001b[39m(\n\u001b[0;32m   2758\u001b[0m         cast(FeatureNames, feature_names)\n\u001b[0;32m   2759\u001b[0m     )\n",
      "\u001b[1;31mValueError\u001b[0m: training data did not have the following fields: RAM(GB), CPU_Threads, Display_Inch, CPU_TDP(W), GPU_Memory(GB), Display_Height(pixel), Weight(kg), CPU_L3(MB), CPU_Boosted_Clock, GPU memory clock(MHz), Storage(GB), GDDR5, GDDR6, LPDDR4X, NoGPU, Linux, MacOS, Windows, DDR1, DDR3, DDR4, DDR5"
     ]
    }
   ],
   "source": [
    "xgbmodel = pickle.load(open('xgbmodel.pkl','rb'))\n",
    "print(xgbmodel.predict([input])) \n"
   ]
  },
  {
   "cell_type": "markdown",
   "id": "993e7b72-ee83-4108-9305-4c45f3a44302",
   "metadata": {
    "tags": []
   },
   "source": [
    "## Final results"
   ]
  },
  {
   "cell_type": "code",
   "execution_count": null,
   "id": "52e3f8b6-b5ee-40d6-80bf-f1715a3f0670",
   "metadata": {
    "tags": []
   },
   "outputs": [],
   "source": [
    "data_test = pd.read_csv(\"./train_val_test/test.csv\", index_col = 'Unnamed: 0')"
   ]
  },
  {
   "cell_type": "code",
   "execution_count": null,
   "id": "0411fd38-4820-41df-85d8-fa78f3745df5",
   "metadata": {},
   "outputs": [],
   "source": [
    "data_test.drop(['Year', 'CPU_Default_Clock', 'CPU_Transistor_Size(nm)', 'GPU clock(MHz)',\n",
    "           'RAM_bus', 'CPU_Cores', 'GPU_Bus_Width(bit)', 'Display_Width(pixel)', 'Brand', 'CPU', 'GPU', 'Laptop_name'],\n",
    "           axis = 1, inplace = True)\n",
    "y_test = data_test['Price(USD)']\n",
    "X_test = data_test.drop('Price(USD)', axis = 1)"
   ]
  },
  {
   "cell_type": "code",
   "execution_count": null,
   "id": "cc06ceb6-c487-4087-965e-a7d857d367e3",
   "metadata": {},
   "outputs": [],
   "source": [
    "X_test_prepared = full_pipeline.transform(X_test)\n",
    "X_test_prepared = pd.DataFrame(X_test_prepared, index = y_test.index, columns = num_attribs + ['GDDR5','GDDR6','LPDDR4X','NoGPU'] + ['Linux', 'MacOS', 'Windows'] + ['DDR1','DDR3','DDR4','DDR5'])"
   ]
  },
  {
   "cell_type": "code",
   "execution_count": null,
   "id": "64f2fa92-eb98-4ff4-b619-897826fa47b0",
   "metadata": {},
   "outputs": [
    {
     "data": {
      "text/plain": [
       "770.9697339902033"
      ]
     },
     "execution_count": 40,
     "metadata": {},
     "output_type": "execute_result"
    }
   ],
   "source": [
    "np.sqrt(mean_squared_error(np.exp(ridge.predict(X_test_prepared)), y_test))"
   ]
  },
  {
   "cell_type": "code",
   "execution_count": null,
   "id": "a2070e9f-b034-445f-b2e7-d6b1fc58f85b",
   "metadata": {},
   "outputs": [
    {
     "data": {
      "text/plain": [
       "720.3087715137679"
      ]
     },
     "execution_count": 41,
     "metadata": {},
     "output_type": "execute_result"
    }
   ],
   "source": [
    "np.sqrt(mean_squared_error(np.exp(lasso.predict(X_test_prepared)), y_test))"
   ]
  },
  {
   "cell_type": "code",
   "execution_count": null,
   "id": "8f59acbb-2641-4b3c-920a-aabef44476fb",
   "metadata": {},
   "outputs": [
    {
     "data": {
      "text/plain": [
       "320.6439732675772"
      ]
     },
     "execution_count": 42,
     "metadata": {},
     "output_type": "execute_result"
    }
   ],
   "source": [
    "np.sqrt(mean_squared_error(np.exp(forest_reg.predict(X_test_prepared)), y_test))"
   ]
  },
  {
   "cell_type": "code",
   "execution_count": null,
   "id": "098a36c5-43ca-46a4-aa7b-09f65bbd2425",
   "metadata": {},
   "outputs": [
    {
     "data": {
      "text/plain": [
       "457.35564241124786"
      ]
     },
     "execution_count": 43,
     "metadata": {},
     "output_type": "execute_result"
    }
   ],
   "source": [
    "np.sqrt(mean_squared_error(np.exp(xgb_reg.predict(X_test_prepared)), y_test))"
   ]
  },
  {
   "cell_type": "code",
   "execution_count": null,
   "id": "35a151e8-cbc5-4289-9887-5ffdc92af42b",
   "metadata": {},
   "outputs": [],
   "source": [
    "#268.53319152105996"
   ]
  }
 ],
 "metadata": {
  "kernelspec": {
   "display_name": "Python 3",
   "language": "python",
   "name": "python3"
  },
  "language_info": {
   "codemirror_mode": {
    "name": "ipython",
    "version": 3
   },
   "file_extension": ".py",
   "mimetype": "text/x-python",
   "name": "python",
   "nbconvert_exporter": "python",
   "pygments_lexer": "ipython3",
   "version": "3.11.0"
  },
  "vscode": {
   "interpreter": {
    "hash": "72b2382ece9768098284d92bbc69d35954e75b60d1e25897d1389c232f4796f0"
   }
  }
 },
 "nbformat": 4,
 "nbformat_minor": 5
}
